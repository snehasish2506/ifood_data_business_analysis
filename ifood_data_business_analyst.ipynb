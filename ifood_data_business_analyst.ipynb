{
  "cells": [
    {
      "cell_type": "code",
      "execution_count": 144,
      "metadata": {
        "id": "JJx_3MQooloK"
      },
      "outputs": [],
      "source": [
        "import pandas as pd\n",
        "import numpy as np\n",
        "import seaborn as sns\n",
        "import matplotlib.pyplot as plt"
      ]
    },
    {
      "cell_type": "code",
      "execution_count": 145,
      "metadata": {
        "id": "RWWlv2FNsDUr"
      },
      "outputs": [],
      "source": [
        "# Read excel file\n",
        "\n",
        "data = pd.read_excel('/content/ifood_df.xlsx')"
      ]
    },
    {
      "cell_type": "code",
      "execution_count": 146,
      "metadata": {
        "colab": {
          "base_uri": "https://localhost:8080/"
        },
        "id": "1c_WOyL6RKAD",
        "outputId": "63c7891a-3079-4062-d0be-7c768825b203"
      },
      "outputs": [
        {
          "output_type": "stream",
          "name": "stdout",
          "text": [
            "There are 184 duplicate rows\n"
          ]
        }
      ],
      "source": [
        "# Check numbers of duplicate records\n",
        "\n",
        "duplicateData=data[data.duplicated()]\n",
        "print(\"There are {} duplicate rows\" .format(len(duplicateData)))"
      ]
    },
    {
      "cell_type": "markdown",
      "source": [
        "**Observation**\n",
        "\n",
        "* There are 184 duplicate recrods in the Dataset."
      ],
      "metadata": {
        "id": "vp_isxWWcoSg"
      }
    },
    {
      "cell_type": "code",
      "execution_count": 147,
      "metadata": {
        "id": "yJQF9PwYSk7S"
      },
      "outputs": [],
      "source": [
        "# Delete duplicate rows\n",
        "\n",
        "data.drop_duplicates(keep=False, inplace=True)"
      ]
    },
    {
      "cell_type": "code",
      "execution_count": 148,
      "metadata": {
        "id": "bMnMQLSiT2cy"
      },
      "outputs": [],
      "source": [
        "# To get total numbers of kids, adding the TotalKids with Teenhome\n",
        "data['TotalKids'] = data['Teenhome'] + data['Kidhome']"
      ]
    },
    {
      "cell_type": "code",
      "execution_count": 149,
      "metadata": {
        "colab": {
          "base_uri": "https://localhost:8080/"
        },
        "id": "6cWcdELcFw4n",
        "outputId": "567a382e-2a3d-4201-862a-f20e022180af"
      },
      "outputs": [
        {
          "output_type": "execute_result",
          "data": {
            "text/plain": [
              "Index(['Income', 'Kidhome', 'Teenhome', 'Recency', 'MntWines', 'MntFruits',\n",
              "       'MntMeatProducts', 'MntFishProducts', 'MntSweetProducts',\n",
              "       'MntGoldProds', 'NumDealsPurchases', 'NumWebPurchases',\n",
              "       'NumCatalogPurchases', 'NumStorePurchases', 'NumWebVisitsMonth',\n",
              "       'AcceptedCmp3', 'AcceptedCmp4', 'AcceptedCmp5', 'AcceptedCmp1',\n",
              "       'AcceptedCmp2', 'Complain', 'Z_CostContact', 'Z_Revenue', 'Response',\n",
              "       'Age', 'Customer_Days', 'Marital_Status', 'Education', 'MntTotal',\n",
              "       'MntRegularProds', 'AcceptedCmpOverall', 'TotalKids'],\n",
              "      dtype='object')"
            ]
          },
          "metadata": {},
          "execution_count": 149
        }
      ],
      "source": [
        "data.columns"
      ]
    },
    {
      "cell_type": "code",
      "execution_count": 150,
      "metadata": {
        "colab": {
          "base_uri": "https://localhost:8080/"
        },
        "id": "1FmECxTfsIeU",
        "outputId": "9de43785-f28c-47e0-b135-02b09b806f59"
      },
      "outputs": [
        {
          "output_type": "execute_result",
          "data": {
            "text/plain": [
              "(1843, 32)"
            ]
          },
          "metadata": {},
          "execution_count": 150
        }
      ],
      "source": [
        "# Total numbers of Row and Columns\n",
        "data.shape"
      ]
    },
    {
      "cell_type": "markdown",
      "metadata": {
        "id": "vbaaiYsLcJHY"
      },
      "source": [
        "**Observation**\n",
        "* The dataset now has 1843 rows and 32 columns after duplicate records were removed and the TotalKids column was added."
      ]
    },
    {
      "cell_type": "code",
      "execution_count": 151,
      "metadata": {
        "colab": {
          "base_uri": "https://localhost:8080/"
        },
        "id": "RQsgOvG9sLfy",
        "outputId": "9a14a046-75f8-41c9-822b-4bdbcd791308"
      },
      "outputs": [
        {
          "output_type": "stream",
          "name": "stdout",
          "text": [
            "<class 'pandas.core.frame.DataFrame'>\n",
            "Int64Index: 1843 entries, 0 to 2204\n",
            "Data columns (total 32 columns):\n",
            " #   Column               Non-Null Count  Dtype \n",
            "---  ------               --------------  ----- \n",
            " 0   Income               1843 non-null   int64 \n",
            " 1   Kidhome              1843 non-null   int64 \n",
            " 2   Teenhome             1843 non-null   int64 \n",
            " 3   Recency              1843 non-null   int64 \n",
            " 4   MntWines             1843 non-null   int64 \n",
            " 5   MntFruits            1843 non-null   int64 \n",
            " 6   MntMeatProducts      1843 non-null   int64 \n",
            " 7   MntFishProducts      1843 non-null   int64 \n",
            " 8   MntSweetProducts     1843 non-null   int64 \n",
            " 9   MntGoldProds         1843 non-null   int64 \n",
            " 10  NumDealsPurchases    1843 non-null   int64 \n",
            " 11  NumWebPurchases      1843 non-null   int64 \n",
            " 12  NumCatalogPurchases  1843 non-null   int64 \n",
            " 13  NumStorePurchases    1843 non-null   int64 \n",
            " 14  NumWebVisitsMonth    1843 non-null   int64 \n",
            " 15  AcceptedCmp3         1843 non-null   int64 \n",
            " 16  AcceptedCmp4         1843 non-null   int64 \n",
            " 17  AcceptedCmp5         1843 non-null   int64 \n",
            " 18  AcceptedCmp1         1843 non-null   int64 \n",
            " 19  AcceptedCmp2         1843 non-null   int64 \n",
            " 20  Complain             1843 non-null   int64 \n",
            " 21  Z_CostContact        1843 non-null   int64 \n",
            " 22  Z_Revenue            1843 non-null   int64 \n",
            " 23  Response             1843 non-null   int64 \n",
            " 24  Age                  1843 non-null   int64 \n",
            " 25  Customer_Days        1843 non-null   int64 \n",
            " 26  Marital_Status       1843 non-null   object\n",
            " 27  Education            1843 non-null   object\n",
            " 28  MntTotal             1843 non-null   int64 \n",
            " 29  MntRegularProds      1843 non-null   int64 \n",
            " 30  AcceptedCmpOverall   1843 non-null   int64 \n",
            " 31  TotalKids            1843 non-null   int64 \n",
            "dtypes: int64(30), object(2)\n",
            "memory usage: 475.1+ KB\n"
          ]
        }
      ],
      "source": [
        "data.info()"
      ]
    },
    {
      "cell_type": "markdown",
      "metadata": {
        "id": "DwsJgkLvcX84"
      },
      "source": [
        "**Observation**\n",
        "* There are no such null values in this dataset"
      ]
    },
    {
      "cell_type": "code",
      "execution_count": 152,
      "metadata": {
        "colab": {
          "base_uri": "https://localhost:8080/"
        },
        "id": "DLKOyvSqszRd",
        "outputId": "1977be77-4c63-4582-aae3-0c61f3350e8a"
      },
      "outputs": [
        {
          "output_type": "execute_result",
          "data": {
            "text/plain": [
              "Income                  int64\n",
              "Kidhome                 int64\n",
              "Teenhome                int64\n",
              "Recency                 int64\n",
              "MntWines                int64\n",
              "MntFruits               int64\n",
              "MntMeatProducts         int64\n",
              "MntFishProducts         int64\n",
              "MntSweetProducts        int64\n",
              "MntGoldProds            int64\n",
              "NumDealsPurchases       int64\n",
              "NumWebPurchases         int64\n",
              "NumCatalogPurchases     int64\n",
              "NumStorePurchases       int64\n",
              "NumWebVisitsMonth       int64\n",
              "AcceptedCmp3            int64\n",
              "AcceptedCmp4            int64\n",
              "AcceptedCmp5            int64\n",
              "AcceptedCmp1            int64\n",
              "AcceptedCmp2            int64\n",
              "Complain                int64\n",
              "Z_CostContact           int64\n",
              "Z_Revenue               int64\n",
              "Response                int64\n",
              "Age                     int64\n",
              "Customer_Days           int64\n",
              "Marital_Status         object\n",
              "Education              object\n",
              "MntTotal                int64\n",
              "MntRegularProds         int64\n",
              "AcceptedCmpOverall      int64\n",
              "TotalKids               int64\n",
              "dtype: object"
            ]
          },
          "metadata": {},
          "execution_count": 152
        }
      ],
      "source": [
        "data.dtypes"
      ]
    },
    {
      "cell_type": "markdown",
      "metadata": {
        "id": "-8tHe7TocgHF"
      },
      "source": [
        "**Observation**\n",
        "* With the exception of Martial Status and Education, every field in this dataset has a numerical value. There are two categorical fields here."
      ]
    },
    {
      "cell_type": "code",
      "execution_count": 153,
      "metadata": {
        "colab": {
          "base_uri": "https://localhost:8080/",
          "height": 456
        },
        "id": "x31Nah0Gcqh3",
        "outputId": "11d08c39-dfe9-4b5b-ee7a-862c056f7e35"
      },
      "outputs": [
        {
          "output_type": "execute_result",
          "data": {
            "text/plain": [
              "   Income  Kidhome  Teenhome  Recency  MntWines  MntFruits  MntMeatProducts  \\\n",
              "0   58138        0         0       58       635         88              546   \n",
              "1   46344        1         1       38        11          1                6   \n",
              "2   71613        0         0       26       426         49              127   \n",
              "3   26646        1         0       26        11          4               20   \n",
              "4   58293        1         0       94       173         43              118   \n",
              "5   62513        0         1       16       520         42               98   \n",
              "6   55635        0         1       34       235         65              164   \n",
              "7   33454        1         0       32        76         10               56   \n",
              "8   30351        1         0       19        14          0               24   \n",
              "9    5648        1         1       68        28          0                6   \n",
              "\n",
              "   MntFishProducts  MntSweetProducts  MntGoldProds  ...  Z_Revenue  Response  \\\n",
              "0              172                88            88  ...         11         1   \n",
              "1                2                 1             6  ...         11         0   \n",
              "2              111                21            42  ...         11         0   \n",
              "3               10                 3             5  ...         11         0   \n",
              "4               46                27            15  ...         11         0   \n",
              "5                0                42            14  ...         11         0   \n",
              "6               50                49            27  ...         11         0   \n",
              "7                3                 1            23  ...         11         0   \n",
              "8                3                 3             2  ...         11         1   \n",
              "9                1                 1            13  ...         11         0   \n",
              "\n",
              "   Age  Customer_Days  Marital_Status   Education  MntTotal  MntRegularProds  \\\n",
              "0   63           2822          Single  Graduation      1529             1441   \n",
              "1   66           2272          Single  Graduation        21               15   \n",
              "2   55           2471        Together  Graduation       734              692   \n",
              "3   36           2298        Together  Graduation        48               43   \n",
              "4   39           2320         Married         PhD       407              392   \n",
              "5   53           2452        Together      Master       702              688   \n",
              "6   49           2752        Divorced  Graduation       563              536   \n",
              "7   35           2576         Married         PhD       146              123   \n",
              "8   46           2547        Together         PhD        44               42   \n",
              "9   70           2267        Together         PhD        36               23   \n",
              "\n",
              "   AcceptedCmpOverall  TotalKids  \n",
              "0                   0          0  \n",
              "1                   0          2  \n",
              "2                   0          0  \n",
              "3                   0          1  \n",
              "4                   0          1  \n",
              "5                   0          1  \n",
              "6                   0          1  \n",
              "7                   0          1  \n",
              "8                   0          1  \n",
              "9                   1          2  \n",
              "\n",
              "[10 rows x 32 columns]"
            ],
            "text/html": [
              "\n",
              "  <div id=\"df-1652f3f3-2216-4dd0-bc38-df141fdc611a\">\n",
              "    <div class=\"colab-df-container\">\n",
              "      <div>\n",
              "<style scoped>\n",
              "    .dataframe tbody tr th:only-of-type {\n",
              "        vertical-align: middle;\n",
              "    }\n",
              "\n",
              "    .dataframe tbody tr th {\n",
              "        vertical-align: top;\n",
              "    }\n",
              "\n",
              "    .dataframe thead th {\n",
              "        text-align: right;\n",
              "    }\n",
              "</style>\n",
              "<table border=\"1\" class=\"dataframe\">\n",
              "  <thead>\n",
              "    <tr style=\"text-align: right;\">\n",
              "      <th></th>\n",
              "      <th>Income</th>\n",
              "      <th>Kidhome</th>\n",
              "      <th>Teenhome</th>\n",
              "      <th>Recency</th>\n",
              "      <th>MntWines</th>\n",
              "      <th>MntFruits</th>\n",
              "      <th>MntMeatProducts</th>\n",
              "      <th>MntFishProducts</th>\n",
              "      <th>MntSweetProducts</th>\n",
              "      <th>MntGoldProds</th>\n",
              "      <th>...</th>\n",
              "      <th>Z_Revenue</th>\n",
              "      <th>Response</th>\n",
              "      <th>Age</th>\n",
              "      <th>Customer_Days</th>\n",
              "      <th>Marital_Status</th>\n",
              "      <th>Education</th>\n",
              "      <th>MntTotal</th>\n",
              "      <th>MntRegularProds</th>\n",
              "      <th>AcceptedCmpOverall</th>\n",
              "      <th>TotalKids</th>\n",
              "    </tr>\n",
              "  </thead>\n",
              "  <tbody>\n",
              "    <tr>\n",
              "      <th>0</th>\n",
              "      <td>58138</td>\n",
              "      <td>0</td>\n",
              "      <td>0</td>\n",
              "      <td>58</td>\n",
              "      <td>635</td>\n",
              "      <td>88</td>\n",
              "      <td>546</td>\n",
              "      <td>172</td>\n",
              "      <td>88</td>\n",
              "      <td>88</td>\n",
              "      <td>...</td>\n",
              "      <td>11</td>\n",
              "      <td>1</td>\n",
              "      <td>63</td>\n",
              "      <td>2822</td>\n",
              "      <td>Single</td>\n",
              "      <td>Graduation</td>\n",
              "      <td>1529</td>\n",
              "      <td>1441</td>\n",
              "      <td>0</td>\n",
              "      <td>0</td>\n",
              "    </tr>\n",
              "    <tr>\n",
              "      <th>1</th>\n",
              "      <td>46344</td>\n",
              "      <td>1</td>\n",
              "      <td>1</td>\n",
              "      <td>38</td>\n",
              "      <td>11</td>\n",
              "      <td>1</td>\n",
              "      <td>6</td>\n",
              "      <td>2</td>\n",
              "      <td>1</td>\n",
              "      <td>6</td>\n",
              "      <td>...</td>\n",
              "      <td>11</td>\n",
              "      <td>0</td>\n",
              "      <td>66</td>\n",
              "      <td>2272</td>\n",
              "      <td>Single</td>\n",
              "      <td>Graduation</td>\n",
              "      <td>21</td>\n",
              "      <td>15</td>\n",
              "      <td>0</td>\n",
              "      <td>2</td>\n",
              "    </tr>\n",
              "    <tr>\n",
              "      <th>2</th>\n",
              "      <td>71613</td>\n",
              "      <td>0</td>\n",
              "      <td>0</td>\n",
              "      <td>26</td>\n",
              "      <td>426</td>\n",
              "      <td>49</td>\n",
              "      <td>127</td>\n",
              "      <td>111</td>\n",
              "      <td>21</td>\n",
              "      <td>42</td>\n",
              "      <td>...</td>\n",
              "      <td>11</td>\n",
              "      <td>0</td>\n",
              "      <td>55</td>\n",
              "      <td>2471</td>\n",
              "      <td>Together</td>\n",
              "      <td>Graduation</td>\n",
              "      <td>734</td>\n",
              "      <td>692</td>\n",
              "      <td>0</td>\n",
              "      <td>0</td>\n",
              "    </tr>\n",
              "    <tr>\n",
              "      <th>3</th>\n",
              "      <td>26646</td>\n",
              "      <td>1</td>\n",
              "      <td>0</td>\n",
              "      <td>26</td>\n",
              "      <td>11</td>\n",
              "      <td>4</td>\n",
              "      <td>20</td>\n",
              "      <td>10</td>\n",
              "      <td>3</td>\n",
              "      <td>5</td>\n",
              "      <td>...</td>\n",
              "      <td>11</td>\n",
              "      <td>0</td>\n",
              "      <td>36</td>\n",
              "      <td>2298</td>\n",
              "      <td>Together</td>\n",
              "      <td>Graduation</td>\n",
              "      <td>48</td>\n",
              "      <td>43</td>\n",
              "      <td>0</td>\n",
              "      <td>1</td>\n",
              "    </tr>\n",
              "    <tr>\n",
              "      <th>4</th>\n",
              "      <td>58293</td>\n",
              "      <td>1</td>\n",
              "      <td>0</td>\n",
              "      <td>94</td>\n",
              "      <td>173</td>\n",
              "      <td>43</td>\n",
              "      <td>118</td>\n",
              "      <td>46</td>\n",
              "      <td>27</td>\n",
              "      <td>15</td>\n",
              "      <td>...</td>\n",
              "      <td>11</td>\n",
              "      <td>0</td>\n",
              "      <td>39</td>\n",
              "      <td>2320</td>\n",
              "      <td>Married</td>\n",
              "      <td>PhD</td>\n",
              "      <td>407</td>\n",
              "      <td>392</td>\n",
              "      <td>0</td>\n",
              "      <td>1</td>\n",
              "    </tr>\n",
              "    <tr>\n",
              "      <th>5</th>\n",
              "      <td>62513</td>\n",
              "      <td>0</td>\n",
              "      <td>1</td>\n",
              "      <td>16</td>\n",
              "      <td>520</td>\n",
              "      <td>42</td>\n",
              "      <td>98</td>\n",
              "      <td>0</td>\n",
              "      <td>42</td>\n",
              "      <td>14</td>\n",
              "      <td>...</td>\n",
              "      <td>11</td>\n",
              "      <td>0</td>\n",
              "      <td>53</td>\n",
              "      <td>2452</td>\n",
              "      <td>Together</td>\n",
              "      <td>Master</td>\n",
              "      <td>702</td>\n",
              "      <td>688</td>\n",
              "      <td>0</td>\n",
              "      <td>1</td>\n",
              "    </tr>\n",
              "    <tr>\n",
              "      <th>6</th>\n",
              "      <td>55635</td>\n",
              "      <td>0</td>\n",
              "      <td>1</td>\n",
              "      <td>34</td>\n",
              "      <td>235</td>\n",
              "      <td>65</td>\n",
              "      <td>164</td>\n",
              "      <td>50</td>\n",
              "      <td>49</td>\n",
              "      <td>27</td>\n",
              "      <td>...</td>\n",
              "      <td>11</td>\n",
              "      <td>0</td>\n",
              "      <td>49</td>\n",
              "      <td>2752</td>\n",
              "      <td>Divorced</td>\n",
              "      <td>Graduation</td>\n",
              "      <td>563</td>\n",
              "      <td>536</td>\n",
              "      <td>0</td>\n",
              "      <td>1</td>\n",
              "    </tr>\n",
              "    <tr>\n",
              "      <th>7</th>\n",
              "      <td>33454</td>\n",
              "      <td>1</td>\n",
              "      <td>0</td>\n",
              "      <td>32</td>\n",
              "      <td>76</td>\n",
              "      <td>10</td>\n",
              "      <td>56</td>\n",
              "      <td>3</td>\n",
              "      <td>1</td>\n",
              "      <td>23</td>\n",
              "      <td>...</td>\n",
              "      <td>11</td>\n",
              "      <td>0</td>\n",
              "      <td>35</td>\n",
              "      <td>2576</td>\n",
              "      <td>Married</td>\n",
              "      <td>PhD</td>\n",
              "      <td>146</td>\n",
              "      <td>123</td>\n",
              "      <td>0</td>\n",
              "      <td>1</td>\n",
              "    </tr>\n",
              "    <tr>\n",
              "      <th>8</th>\n",
              "      <td>30351</td>\n",
              "      <td>1</td>\n",
              "      <td>0</td>\n",
              "      <td>19</td>\n",
              "      <td>14</td>\n",
              "      <td>0</td>\n",
              "      <td>24</td>\n",
              "      <td>3</td>\n",
              "      <td>3</td>\n",
              "      <td>2</td>\n",
              "      <td>...</td>\n",
              "      <td>11</td>\n",
              "      <td>1</td>\n",
              "      <td>46</td>\n",
              "      <td>2547</td>\n",
              "      <td>Together</td>\n",
              "      <td>PhD</td>\n",
              "      <td>44</td>\n",
              "      <td>42</td>\n",
              "      <td>0</td>\n",
              "      <td>1</td>\n",
              "    </tr>\n",
              "    <tr>\n",
              "      <th>9</th>\n",
              "      <td>5648</td>\n",
              "      <td>1</td>\n",
              "      <td>1</td>\n",
              "      <td>68</td>\n",
              "      <td>28</td>\n",
              "      <td>0</td>\n",
              "      <td>6</td>\n",
              "      <td>1</td>\n",
              "      <td>1</td>\n",
              "      <td>13</td>\n",
              "      <td>...</td>\n",
              "      <td>11</td>\n",
              "      <td>0</td>\n",
              "      <td>70</td>\n",
              "      <td>2267</td>\n",
              "      <td>Together</td>\n",
              "      <td>PhD</td>\n",
              "      <td>36</td>\n",
              "      <td>23</td>\n",
              "      <td>1</td>\n",
              "      <td>2</td>\n",
              "    </tr>\n",
              "  </tbody>\n",
              "</table>\n",
              "<p>10 rows × 32 columns</p>\n",
              "</div>\n",
              "      <button class=\"colab-df-convert\" onclick=\"convertToInteractive('df-1652f3f3-2216-4dd0-bc38-df141fdc611a')\"\n",
              "              title=\"Convert this dataframe to an interactive table.\"\n",
              "              style=\"display:none;\">\n",
              "        \n",
              "  <svg xmlns=\"http://www.w3.org/2000/svg\" height=\"24px\"viewBox=\"0 0 24 24\"\n",
              "       width=\"24px\">\n",
              "    <path d=\"M0 0h24v24H0V0z\" fill=\"none\"/>\n",
              "    <path d=\"M18.56 5.44l.94 2.06.94-2.06 2.06-.94-2.06-.94-.94-2.06-.94 2.06-2.06.94zm-11 1L8.5 8.5l.94-2.06 2.06-.94-2.06-.94L8.5 2.5l-.94 2.06-2.06.94zm10 10l.94 2.06.94-2.06 2.06-.94-2.06-.94-.94-2.06-.94 2.06-2.06.94z\"/><path d=\"M17.41 7.96l-1.37-1.37c-.4-.4-.92-.59-1.43-.59-.52 0-1.04.2-1.43.59L10.3 9.45l-7.72 7.72c-.78.78-.78 2.05 0 2.83L4 21.41c.39.39.9.59 1.41.59.51 0 1.02-.2 1.41-.59l7.78-7.78 2.81-2.81c.8-.78.8-2.07 0-2.86zM5.41 20L4 18.59l7.72-7.72 1.47 1.35L5.41 20z\"/>\n",
              "  </svg>\n",
              "      </button>\n",
              "      \n",
              "  <style>\n",
              "    .colab-df-container {\n",
              "      display:flex;\n",
              "      flex-wrap:wrap;\n",
              "      gap: 12px;\n",
              "    }\n",
              "\n",
              "    .colab-df-convert {\n",
              "      background-color: #E8F0FE;\n",
              "      border: none;\n",
              "      border-radius: 50%;\n",
              "      cursor: pointer;\n",
              "      display: none;\n",
              "      fill: #1967D2;\n",
              "      height: 32px;\n",
              "      padding: 0 0 0 0;\n",
              "      width: 32px;\n",
              "    }\n",
              "\n",
              "    .colab-df-convert:hover {\n",
              "      background-color: #E2EBFA;\n",
              "      box-shadow: 0px 1px 2px rgba(60, 64, 67, 0.3), 0px 1px 3px 1px rgba(60, 64, 67, 0.15);\n",
              "      fill: #174EA6;\n",
              "    }\n",
              "\n",
              "    [theme=dark] .colab-df-convert {\n",
              "      background-color: #3B4455;\n",
              "      fill: #D2E3FC;\n",
              "    }\n",
              "\n",
              "    [theme=dark] .colab-df-convert:hover {\n",
              "      background-color: #434B5C;\n",
              "      box-shadow: 0px 1px 3px 1px rgba(0, 0, 0, 0.15);\n",
              "      filter: drop-shadow(0px 1px 2px rgba(0, 0, 0, 0.3));\n",
              "      fill: #FFFFFF;\n",
              "    }\n",
              "  </style>\n",
              "\n",
              "      <script>\n",
              "        const buttonEl =\n",
              "          document.querySelector('#df-1652f3f3-2216-4dd0-bc38-df141fdc611a button.colab-df-convert');\n",
              "        buttonEl.style.display =\n",
              "          google.colab.kernel.accessAllowed ? 'block' : 'none';\n",
              "\n",
              "        async function convertToInteractive(key) {\n",
              "          const element = document.querySelector('#df-1652f3f3-2216-4dd0-bc38-df141fdc611a');\n",
              "          const dataTable =\n",
              "            await google.colab.kernel.invokeFunction('convertToInteractive',\n",
              "                                                     [key], {});\n",
              "          if (!dataTable) return;\n",
              "\n",
              "          const docLinkHtml = 'Like what you see? Visit the ' +\n",
              "            '<a target=\"_blank\" href=https://colab.research.google.com/notebooks/data_table.ipynb>data table notebook</a>'\n",
              "            + ' to learn more about interactive tables.';\n",
              "          element.innerHTML = '';\n",
              "          dataTable['output_type'] = 'display_data';\n",
              "          await google.colab.output.renderOutput(dataTable, element);\n",
              "          const docLink = document.createElement('div');\n",
              "          docLink.innerHTML = docLinkHtml;\n",
              "          element.appendChild(docLink);\n",
              "        }\n",
              "      </script>\n",
              "    </div>\n",
              "  </div>\n",
              "  "
            ]
          },
          "metadata": {},
          "execution_count": 153
        }
      ],
      "source": [
        "data.head(10)"
      ]
    },
    {
      "cell_type": "code",
      "execution_count": 154,
      "metadata": {
        "colab": {
          "base_uri": "https://localhost:8080/",
          "height": 456
        },
        "id": "xthI5FeodMJx",
        "outputId": "cd20376b-0024-4ea7-9875-eb409966af92"
      },
      "outputs": [
        {
          "output_type": "execute_result",
          "data": {
            "text/plain": [
              "      Income  Kidhome  Teenhome  Recency  MntWines  MntFruits  \\\n",
              "2193   63777        1         1       87       457          5   \n",
              "2194   57967        0         1       39       229          7   \n",
              "2195   24434        2         0        9         3          2   \n",
              "2196   11012        1         0       82        24          3   \n",
              "2197   44802        0         0       71       853         10   \n",
              "2198   26816        0         0       50         5          1   \n",
              "2200   61223        0         1       46       709         43   \n",
              "2202   56981        0         0       91       908         48   \n",
              "2203   69245        0         1        8       428         30   \n",
              "2204   52869        1         1       40        84          3   \n",
              "\n",
              "      MntMeatProducts  MntFishProducts  MntSweetProducts  MntGoldProds  ...  \\\n",
              "2193              106               15                17            53  ...   \n",
              "2194              137                4                 0            91  ...   \n",
              "2195                8               20                 0            17  ...   \n",
              "2196               26                7                 1            23  ...   \n",
              "2197              143               13                10            20  ...   \n",
              "2198                6                3                 4             3  ...   \n",
              "2200              182               42               118           247  ...   \n",
              "2202              217               32                12            24  ...   \n",
              "2203              214               80                30            61  ...   \n",
              "2204               61                2                 1            21  ...   \n",
              "\n",
              "      Z_Revenue  Response  Age  Customer_Days  Marital_Status   Education  \\\n",
              "2193         11         0   41           2621         Married  Graduation   \n",
              "2194         11         0   58           2642          Single  Graduation   \n",
              "2195         11         0   48           2201         Married  Graduation   \n",
              "2196         11         0   36           2629          Single  Graduation   \n",
              "2197         11         0   50           2836          Single      Master   \n",
              "2198         11         0   34           2840          Single  Graduation   \n",
              "2200         11         0   53           2540         Married  Graduation   \n",
              "2202         11         0   39           2314        Divorced  Graduation   \n",
              "2203         11         0   64           2315        Together      Master   \n",
              "2204         11         1   66           2781         Married         PhD   \n",
              "\n",
              "      MntTotal  MntRegularProds  AcceptedCmpOverall  TotalKids  \n",
              "2193       600              547                   0          2  \n",
              "2194       377              286                   0          1  \n",
              "2195        33               16                   0          2  \n",
              "2196        61               38                   1          1  \n",
              "2197      1029             1009                   0          0  \n",
              "2198        19               16                   0          0  \n",
              "2200      1094              847                   0          1  \n",
              "2202      1217             1193                   1          0  \n",
              "2203       782              721                   0          1  \n",
              "2204       151              130                   0          2  \n",
              "\n",
              "[10 rows x 32 columns]"
            ],
            "text/html": [
              "\n",
              "  <div id=\"df-5ecb7d75-2483-46c8-b290-fdb9f3d8cc5b\">\n",
              "    <div class=\"colab-df-container\">\n",
              "      <div>\n",
              "<style scoped>\n",
              "    .dataframe tbody tr th:only-of-type {\n",
              "        vertical-align: middle;\n",
              "    }\n",
              "\n",
              "    .dataframe tbody tr th {\n",
              "        vertical-align: top;\n",
              "    }\n",
              "\n",
              "    .dataframe thead th {\n",
              "        text-align: right;\n",
              "    }\n",
              "</style>\n",
              "<table border=\"1\" class=\"dataframe\">\n",
              "  <thead>\n",
              "    <tr style=\"text-align: right;\">\n",
              "      <th></th>\n",
              "      <th>Income</th>\n",
              "      <th>Kidhome</th>\n",
              "      <th>Teenhome</th>\n",
              "      <th>Recency</th>\n",
              "      <th>MntWines</th>\n",
              "      <th>MntFruits</th>\n",
              "      <th>MntMeatProducts</th>\n",
              "      <th>MntFishProducts</th>\n",
              "      <th>MntSweetProducts</th>\n",
              "      <th>MntGoldProds</th>\n",
              "      <th>...</th>\n",
              "      <th>Z_Revenue</th>\n",
              "      <th>Response</th>\n",
              "      <th>Age</th>\n",
              "      <th>Customer_Days</th>\n",
              "      <th>Marital_Status</th>\n",
              "      <th>Education</th>\n",
              "      <th>MntTotal</th>\n",
              "      <th>MntRegularProds</th>\n",
              "      <th>AcceptedCmpOverall</th>\n",
              "      <th>TotalKids</th>\n",
              "    </tr>\n",
              "  </thead>\n",
              "  <tbody>\n",
              "    <tr>\n",
              "      <th>2193</th>\n",
              "      <td>63777</td>\n",
              "      <td>1</td>\n",
              "      <td>1</td>\n",
              "      <td>87</td>\n",
              "      <td>457</td>\n",
              "      <td>5</td>\n",
              "      <td>106</td>\n",
              "      <td>15</td>\n",
              "      <td>17</td>\n",
              "      <td>53</td>\n",
              "      <td>...</td>\n",
              "      <td>11</td>\n",
              "      <td>0</td>\n",
              "      <td>41</td>\n",
              "      <td>2621</td>\n",
              "      <td>Married</td>\n",
              "      <td>Graduation</td>\n",
              "      <td>600</td>\n",
              "      <td>547</td>\n",
              "      <td>0</td>\n",
              "      <td>2</td>\n",
              "    </tr>\n",
              "    <tr>\n",
              "      <th>2194</th>\n",
              "      <td>57967</td>\n",
              "      <td>0</td>\n",
              "      <td>1</td>\n",
              "      <td>39</td>\n",
              "      <td>229</td>\n",
              "      <td>7</td>\n",
              "      <td>137</td>\n",
              "      <td>4</td>\n",
              "      <td>0</td>\n",
              "      <td>91</td>\n",
              "      <td>...</td>\n",
              "      <td>11</td>\n",
              "      <td>0</td>\n",
              "      <td>58</td>\n",
              "      <td>2642</td>\n",
              "      <td>Single</td>\n",
              "      <td>Graduation</td>\n",
              "      <td>377</td>\n",
              "      <td>286</td>\n",
              "      <td>0</td>\n",
              "      <td>1</td>\n",
              "    </tr>\n",
              "    <tr>\n",
              "      <th>2195</th>\n",
              "      <td>24434</td>\n",
              "      <td>2</td>\n",
              "      <td>0</td>\n",
              "      <td>9</td>\n",
              "      <td>3</td>\n",
              "      <td>2</td>\n",
              "      <td>8</td>\n",
              "      <td>20</td>\n",
              "      <td>0</td>\n",
              "      <td>17</td>\n",
              "      <td>...</td>\n",
              "      <td>11</td>\n",
              "      <td>0</td>\n",
              "      <td>48</td>\n",
              "      <td>2201</td>\n",
              "      <td>Married</td>\n",
              "      <td>Graduation</td>\n",
              "      <td>33</td>\n",
              "      <td>16</td>\n",
              "      <td>0</td>\n",
              "      <td>2</td>\n",
              "    </tr>\n",
              "    <tr>\n",
              "      <th>2196</th>\n",
              "      <td>11012</td>\n",
              "      <td>1</td>\n",
              "      <td>0</td>\n",
              "      <td>82</td>\n",
              "      <td>24</td>\n",
              "      <td>3</td>\n",
              "      <td>26</td>\n",
              "      <td>7</td>\n",
              "      <td>1</td>\n",
              "      <td>23</td>\n",
              "      <td>...</td>\n",
              "      <td>11</td>\n",
              "      <td>0</td>\n",
              "      <td>36</td>\n",
              "      <td>2629</td>\n",
              "      <td>Single</td>\n",
              "      <td>Graduation</td>\n",
              "      <td>61</td>\n",
              "      <td>38</td>\n",
              "      <td>1</td>\n",
              "      <td>1</td>\n",
              "    </tr>\n",
              "    <tr>\n",
              "      <th>2197</th>\n",
              "      <td>44802</td>\n",
              "      <td>0</td>\n",
              "      <td>0</td>\n",
              "      <td>71</td>\n",
              "      <td>853</td>\n",
              "      <td>10</td>\n",
              "      <td>143</td>\n",
              "      <td>13</td>\n",
              "      <td>10</td>\n",
              "      <td>20</td>\n",
              "      <td>...</td>\n",
              "      <td>11</td>\n",
              "      <td>0</td>\n",
              "      <td>50</td>\n",
              "      <td>2836</td>\n",
              "      <td>Single</td>\n",
              "      <td>Master</td>\n",
              "      <td>1029</td>\n",
              "      <td>1009</td>\n",
              "      <td>0</td>\n",
              "      <td>0</td>\n",
              "    </tr>\n",
              "    <tr>\n",
              "      <th>2198</th>\n",
              "      <td>26816</td>\n",
              "      <td>0</td>\n",
              "      <td>0</td>\n",
              "      <td>50</td>\n",
              "      <td>5</td>\n",
              "      <td>1</td>\n",
              "      <td>6</td>\n",
              "      <td>3</td>\n",
              "      <td>4</td>\n",
              "      <td>3</td>\n",
              "      <td>...</td>\n",
              "      <td>11</td>\n",
              "      <td>0</td>\n",
              "      <td>34</td>\n",
              "      <td>2840</td>\n",
              "      <td>Single</td>\n",
              "      <td>Graduation</td>\n",
              "      <td>19</td>\n",
              "      <td>16</td>\n",
              "      <td>0</td>\n",
              "      <td>0</td>\n",
              "    </tr>\n",
              "    <tr>\n",
              "      <th>2200</th>\n",
              "      <td>61223</td>\n",
              "      <td>0</td>\n",
              "      <td>1</td>\n",
              "      <td>46</td>\n",
              "      <td>709</td>\n",
              "      <td>43</td>\n",
              "      <td>182</td>\n",
              "      <td>42</td>\n",
              "      <td>118</td>\n",
              "      <td>247</td>\n",
              "      <td>...</td>\n",
              "      <td>11</td>\n",
              "      <td>0</td>\n",
              "      <td>53</td>\n",
              "      <td>2540</td>\n",
              "      <td>Married</td>\n",
              "      <td>Graduation</td>\n",
              "      <td>1094</td>\n",
              "      <td>847</td>\n",
              "      <td>0</td>\n",
              "      <td>1</td>\n",
              "    </tr>\n",
              "    <tr>\n",
              "      <th>2202</th>\n",
              "      <td>56981</td>\n",
              "      <td>0</td>\n",
              "      <td>0</td>\n",
              "      <td>91</td>\n",
              "      <td>908</td>\n",
              "      <td>48</td>\n",
              "      <td>217</td>\n",
              "      <td>32</td>\n",
              "      <td>12</td>\n",
              "      <td>24</td>\n",
              "      <td>...</td>\n",
              "      <td>11</td>\n",
              "      <td>0</td>\n",
              "      <td>39</td>\n",
              "      <td>2314</td>\n",
              "      <td>Divorced</td>\n",
              "      <td>Graduation</td>\n",
              "      <td>1217</td>\n",
              "      <td>1193</td>\n",
              "      <td>1</td>\n",
              "      <td>0</td>\n",
              "    </tr>\n",
              "    <tr>\n",
              "      <th>2203</th>\n",
              "      <td>69245</td>\n",
              "      <td>0</td>\n",
              "      <td>1</td>\n",
              "      <td>8</td>\n",
              "      <td>428</td>\n",
              "      <td>30</td>\n",
              "      <td>214</td>\n",
              "      <td>80</td>\n",
              "      <td>30</td>\n",
              "      <td>61</td>\n",
              "      <td>...</td>\n",
              "      <td>11</td>\n",
              "      <td>0</td>\n",
              "      <td>64</td>\n",
              "      <td>2315</td>\n",
              "      <td>Together</td>\n",
              "      <td>Master</td>\n",
              "      <td>782</td>\n",
              "      <td>721</td>\n",
              "      <td>0</td>\n",
              "      <td>1</td>\n",
              "    </tr>\n",
              "    <tr>\n",
              "      <th>2204</th>\n",
              "      <td>52869</td>\n",
              "      <td>1</td>\n",
              "      <td>1</td>\n",
              "      <td>40</td>\n",
              "      <td>84</td>\n",
              "      <td>3</td>\n",
              "      <td>61</td>\n",
              "      <td>2</td>\n",
              "      <td>1</td>\n",
              "      <td>21</td>\n",
              "      <td>...</td>\n",
              "      <td>11</td>\n",
              "      <td>1</td>\n",
              "      <td>66</td>\n",
              "      <td>2781</td>\n",
              "      <td>Married</td>\n",
              "      <td>PhD</td>\n",
              "      <td>151</td>\n",
              "      <td>130</td>\n",
              "      <td>0</td>\n",
              "      <td>2</td>\n",
              "    </tr>\n",
              "  </tbody>\n",
              "</table>\n",
              "<p>10 rows × 32 columns</p>\n",
              "</div>\n",
              "      <button class=\"colab-df-convert\" onclick=\"convertToInteractive('df-5ecb7d75-2483-46c8-b290-fdb9f3d8cc5b')\"\n",
              "              title=\"Convert this dataframe to an interactive table.\"\n",
              "              style=\"display:none;\">\n",
              "        \n",
              "  <svg xmlns=\"http://www.w3.org/2000/svg\" height=\"24px\"viewBox=\"0 0 24 24\"\n",
              "       width=\"24px\">\n",
              "    <path d=\"M0 0h24v24H0V0z\" fill=\"none\"/>\n",
              "    <path d=\"M18.56 5.44l.94 2.06.94-2.06 2.06-.94-2.06-.94-.94-2.06-.94 2.06-2.06.94zm-11 1L8.5 8.5l.94-2.06 2.06-.94-2.06-.94L8.5 2.5l-.94 2.06-2.06.94zm10 10l.94 2.06.94-2.06 2.06-.94-2.06-.94-.94-2.06-.94 2.06-2.06.94z\"/><path d=\"M17.41 7.96l-1.37-1.37c-.4-.4-.92-.59-1.43-.59-.52 0-1.04.2-1.43.59L10.3 9.45l-7.72 7.72c-.78.78-.78 2.05 0 2.83L4 21.41c.39.39.9.59 1.41.59.51 0 1.02-.2 1.41-.59l7.78-7.78 2.81-2.81c.8-.78.8-2.07 0-2.86zM5.41 20L4 18.59l7.72-7.72 1.47 1.35L5.41 20z\"/>\n",
              "  </svg>\n",
              "      </button>\n",
              "      \n",
              "  <style>\n",
              "    .colab-df-container {\n",
              "      display:flex;\n",
              "      flex-wrap:wrap;\n",
              "      gap: 12px;\n",
              "    }\n",
              "\n",
              "    .colab-df-convert {\n",
              "      background-color: #E8F0FE;\n",
              "      border: none;\n",
              "      border-radius: 50%;\n",
              "      cursor: pointer;\n",
              "      display: none;\n",
              "      fill: #1967D2;\n",
              "      height: 32px;\n",
              "      padding: 0 0 0 0;\n",
              "      width: 32px;\n",
              "    }\n",
              "\n",
              "    .colab-df-convert:hover {\n",
              "      background-color: #E2EBFA;\n",
              "      box-shadow: 0px 1px 2px rgba(60, 64, 67, 0.3), 0px 1px 3px 1px rgba(60, 64, 67, 0.15);\n",
              "      fill: #174EA6;\n",
              "    }\n",
              "\n",
              "    [theme=dark] .colab-df-convert {\n",
              "      background-color: #3B4455;\n",
              "      fill: #D2E3FC;\n",
              "    }\n",
              "\n",
              "    [theme=dark] .colab-df-convert:hover {\n",
              "      background-color: #434B5C;\n",
              "      box-shadow: 0px 1px 3px 1px rgba(0, 0, 0, 0.15);\n",
              "      filter: drop-shadow(0px 1px 2px rgba(0, 0, 0, 0.3));\n",
              "      fill: #FFFFFF;\n",
              "    }\n",
              "  </style>\n",
              "\n",
              "      <script>\n",
              "        const buttonEl =\n",
              "          document.querySelector('#df-5ecb7d75-2483-46c8-b290-fdb9f3d8cc5b button.colab-df-convert');\n",
              "        buttonEl.style.display =\n",
              "          google.colab.kernel.accessAllowed ? 'block' : 'none';\n",
              "\n",
              "        async function convertToInteractive(key) {\n",
              "          const element = document.querySelector('#df-5ecb7d75-2483-46c8-b290-fdb9f3d8cc5b');\n",
              "          const dataTable =\n",
              "            await google.colab.kernel.invokeFunction('convertToInteractive',\n",
              "                                                     [key], {});\n",
              "          if (!dataTable) return;\n",
              "\n",
              "          const docLinkHtml = 'Like what you see? Visit the ' +\n",
              "            '<a target=\"_blank\" href=https://colab.research.google.com/notebooks/data_table.ipynb>data table notebook</a>'\n",
              "            + ' to learn more about interactive tables.';\n",
              "          element.innerHTML = '';\n",
              "          dataTable['output_type'] = 'display_data';\n",
              "          await google.colab.output.renderOutput(dataTable, element);\n",
              "          const docLink = document.createElement('div');\n",
              "          docLink.innerHTML = docLinkHtml;\n",
              "          element.appendChild(docLink);\n",
              "        }\n",
              "      </script>\n",
              "    </div>\n",
              "  </div>\n",
              "  "
            ]
          },
          "metadata": {},
          "execution_count": 154
        }
      ],
      "source": [
        "data.tail(10)"
      ]
    },
    {
      "cell_type": "code",
      "execution_count": 155,
      "metadata": {
        "colab": {
          "base_uri": "https://localhost:8080/",
          "height": 394
        },
        "id": "iLMbM6zqsgZT",
        "outputId": "99662a90-c56e-42f0-80ac-b6b1a79a54ab"
      },
      "outputs": [
        {
          "output_type": "execute_result",
          "data": {
            "text/plain": [
              "              Income      Kidhome     Teenhome      Recency     MntWines  \\\n",
              "count    1843.000000  1843.000000  1843.000000  1843.000000  1843.000000   \n",
              "mean    51755.752577     0.443842     0.512751    48.734129   307.167119   \n",
              "std     20727.936663     0.534853     0.548639    28.951696   337.913890   \n",
              "min      1730.000000     0.000000     0.000000     0.000000     0.000000   \n",
              "25%     35683.000000     0.000000     0.000000    24.000000    23.500000   \n",
              "50%     51650.000000     0.000000     0.000000    49.000000   179.000000   \n",
              "75%     68145.000000     1.000000     1.000000    74.000000   508.000000   \n",
              "max    113734.000000     2.000000     2.000000    99.000000  1493.000000   \n",
              "\n",
              "         MntFruits  MntMeatProducts  MntFishProducts  MntSweetProducts  \\\n",
              "count  1843.000000      1843.000000      1843.000000       1843.000000   \n",
              "mean     26.308193       166.813348        37.400977         27.416712   \n",
              "std      39.733319       222.103689        54.895591         42.066386   \n",
              "min       0.000000         0.000000         0.000000          0.000000   \n",
              "25%       2.000000        16.000000         2.500000          1.000000   \n",
              "50%       8.000000        68.000000        12.000000          8.000000   \n",
              "75%      33.000000       225.000000        50.000000         34.000000   \n",
              "max     197.000000      1725.000000       259.000000        262.000000   \n",
              "\n",
              "       MntGoldProds  ...     Complain  Z_CostContact  Z_Revenue    Response  \\\n",
              "count   1843.000000  ...  1843.000000         1843.0     1843.0  1843.00000   \n",
              "mean      43.837222  ...     0.009767            3.0       11.0     0.15681   \n",
              "std       51.690589  ...     0.098369            0.0        0.0     0.36372   \n",
              "min        0.000000  ...     0.000000            3.0       11.0     0.00000   \n",
              "25%        9.000000  ...     0.000000            3.0       11.0     0.00000   \n",
              "50%       24.000000  ...     0.000000            3.0       11.0     0.00000   \n",
              "75%       56.000000  ...     0.000000            3.0       11.0     0.00000   \n",
              "max      321.000000  ...     1.000000            3.0       11.0     1.00000   \n",
              "\n",
              "               Age  Customer_Days     MntTotal  MntRegularProds  \\\n",
              "count  1843.000000    1843.000000  1843.000000      1843.000000   \n",
              "mean     51.136191    2510.813348   565.106348       521.269126   \n",
              "std      11.627283     202.462790   577.679708       555.773676   \n",
              "min      24.000000    2159.000000     4.000000      -283.000000   \n",
              "25%      43.000000    2336.000000    55.000000        42.000000   \n",
              "50%      50.000000    2509.000000   344.000000       290.000000   \n",
              "75%      61.000000    2687.000000   964.500000       883.000000   \n",
              "max      80.000000    2858.000000  2491.000000      2458.000000   \n",
              "\n",
              "       AcceptedCmpOverall    TotalKids  \n",
              "count         1843.000000  1843.000000  \n",
              "mean             0.305480     0.956593  \n",
              "std              0.680508     0.742142  \n",
              "min              0.000000     0.000000  \n",
              "25%              0.000000     0.000000  \n",
              "50%              0.000000     1.000000  \n",
              "75%              0.000000     1.000000  \n",
              "max              4.000000     3.000000  \n",
              "\n",
              "[8 rows x 30 columns]"
            ],
            "text/html": [
              "\n",
              "  <div id=\"df-dacca373-fb8e-4250-9ed1-9428ee340518\">\n",
              "    <div class=\"colab-df-container\">\n",
              "      <div>\n",
              "<style scoped>\n",
              "    .dataframe tbody tr th:only-of-type {\n",
              "        vertical-align: middle;\n",
              "    }\n",
              "\n",
              "    .dataframe tbody tr th {\n",
              "        vertical-align: top;\n",
              "    }\n",
              "\n",
              "    .dataframe thead th {\n",
              "        text-align: right;\n",
              "    }\n",
              "</style>\n",
              "<table border=\"1\" class=\"dataframe\">\n",
              "  <thead>\n",
              "    <tr style=\"text-align: right;\">\n",
              "      <th></th>\n",
              "      <th>Income</th>\n",
              "      <th>Kidhome</th>\n",
              "      <th>Teenhome</th>\n",
              "      <th>Recency</th>\n",
              "      <th>MntWines</th>\n",
              "      <th>MntFruits</th>\n",
              "      <th>MntMeatProducts</th>\n",
              "      <th>MntFishProducts</th>\n",
              "      <th>MntSweetProducts</th>\n",
              "      <th>MntGoldProds</th>\n",
              "      <th>...</th>\n",
              "      <th>Complain</th>\n",
              "      <th>Z_CostContact</th>\n",
              "      <th>Z_Revenue</th>\n",
              "      <th>Response</th>\n",
              "      <th>Age</th>\n",
              "      <th>Customer_Days</th>\n",
              "      <th>MntTotal</th>\n",
              "      <th>MntRegularProds</th>\n",
              "      <th>AcceptedCmpOverall</th>\n",
              "      <th>TotalKids</th>\n",
              "    </tr>\n",
              "  </thead>\n",
              "  <tbody>\n",
              "    <tr>\n",
              "      <th>count</th>\n",
              "      <td>1843.000000</td>\n",
              "      <td>1843.000000</td>\n",
              "      <td>1843.000000</td>\n",
              "      <td>1843.000000</td>\n",
              "      <td>1843.000000</td>\n",
              "      <td>1843.000000</td>\n",
              "      <td>1843.000000</td>\n",
              "      <td>1843.000000</td>\n",
              "      <td>1843.000000</td>\n",
              "      <td>1843.000000</td>\n",
              "      <td>...</td>\n",
              "      <td>1843.000000</td>\n",
              "      <td>1843.0</td>\n",
              "      <td>1843.0</td>\n",
              "      <td>1843.00000</td>\n",
              "      <td>1843.000000</td>\n",
              "      <td>1843.000000</td>\n",
              "      <td>1843.000000</td>\n",
              "      <td>1843.000000</td>\n",
              "      <td>1843.000000</td>\n",
              "      <td>1843.000000</td>\n",
              "    </tr>\n",
              "    <tr>\n",
              "      <th>mean</th>\n",
              "      <td>51755.752577</td>\n",
              "      <td>0.443842</td>\n",
              "      <td>0.512751</td>\n",
              "      <td>48.734129</td>\n",
              "      <td>307.167119</td>\n",
              "      <td>26.308193</td>\n",
              "      <td>166.813348</td>\n",
              "      <td>37.400977</td>\n",
              "      <td>27.416712</td>\n",
              "      <td>43.837222</td>\n",
              "      <td>...</td>\n",
              "      <td>0.009767</td>\n",
              "      <td>3.0</td>\n",
              "      <td>11.0</td>\n",
              "      <td>0.15681</td>\n",
              "      <td>51.136191</td>\n",
              "      <td>2510.813348</td>\n",
              "      <td>565.106348</td>\n",
              "      <td>521.269126</td>\n",
              "      <td>0.305480</td>\n",
              "      <td>0.956593</td>\n",
              "    </tr>\n",
              "    <tr>\n",
              "      <th>std</th>\n",
              "      <td>20727.936663</td>\n",
              "      <td>0.534853</td>\n",
              "      <td>0.548639</td>\n",
              "      <td>28.951696</td>\n",
              "      <td>337.913890</td>\n",
              "      <td>39.733319</td>\n",
              "      <td>222.103689</td>\n",
              "      <td>54.895591</td>\n",
              "      <td>42.066386</td>\n",
              "      <td>51.690589</td>\n",
              "      <td>...</td>\n",
              "      <td>0.098369</td>\n",
              "      <td>0.0</td>\n",
              "      <td>0.0</td>\n",
              "      <td>0.36372</td>\n",
              "      <td>11.627283</td>\n",
              "      <td>202.462790</td>\n",
              "      <td>577.679708</td>\n",
              "      <td>555.773676</td>\n",
              "      <td>0.680508</td>\n",
              "      <td>0.742142</td>\n",
              "    </tr>\n",
              "    <tr>\n",
              "      <th>min</th>\n",
              "      <td>1730.000000</td>\n",
              "      <td>0.000000</td>\n",
              "      <td>0.000000</td>\n",
              "      <td>0.000000</td>\n",
              "      <td>0.000000</td>\n",
              "      <td>0.000000</td>\n",
              "      <td>0.000000</td>\n",
              "      <td>0.000000</td>\n",
              "      <td>0.000000</td>\n",
              "      <td>0.000000</td>\n",
              "      <td>...</td>\n",
              "      <td>0.000000</td>\n",
              "      <td>3.0</td>\n",
              "      <td>11.0</td>\n",
              "      <td>0.00000</td>\n",
              "      <td>24.000000</td>\n",
              "      <td>2159.000000</td>\n",
              "      <td>4.000000</td>\n",
              "      <td>-283.000000</td>\n",
              "      <td>0.000000</td>\n",
              "      <td>0.000000</td>\n",
              "    </tr>\n",
              "    <tr>\n",
              "      <th>25%</th>\n",
              "      <td>35683.000000</td>\n",
              "      <td>0.000000</td>\n",
              "      <td>0.000000</td>\n",
              "      <td>24.000000</td>\n",
              "      <td>23.500000</td>\n",
              "      <td>2.000000</td>\n",
              "      <td>16.000000</td>\n",
              "      <td>2.500000</td>\n",
              "      <td>1.000000</td>\n",
              "      <td>9.000000</td>\n",
              "      <td>...</td>\n",
              "      <td>0.000000</td>\n",
              "      <td>3.0</td>\n",
              "      <td>11.0</td>\n",
              "      <td>0.00000</td>\n",
              "      <td>43.000000</td>\n",
              "      <td>2336.000000</td>\n",
              "      <td>55.000000</td>\n",
              "      <td>42.000000</td>\n",
              "      <td>0.000000</td>\n",
              "      <td>0.000000</td>\n",
              "    </tr>\n",
              "    <tr>\n",
              "      <th>50%</th>\n",
              "      <td>51650.000000</td>\n",
              "      <td>0.000000</td>\n",
              "      <td>0.000000</td>\n",
              "      <td>49.000000</td>\n",
              "      <td>179.000000</td>\n",
              "      <td>8.000000</td>\n",
              "      <td>68.000000</td>\n",
              "      <td>12.000000</td>\n",
              "      <td>8.000000</td>\n",
              "      <td>24.000000</td>\n",
              "      <td>...</td>\n",
              "      <td>0.000000</td>\n",
              "      <td>3.0</td>\n",
              "      <td>11.0</td>\n",
              "      <td>0.00000</td>\n",
              "      <td>50.000000</td>\n",
              "      <td>2509.000000</td>\n",
              "      <td>344.000000</td>\n",
              "      <td>290.000000</td>\n",
              "      <td>0.000000</td>\n",
              "      <td>1.000000</td>\n",
              "    </tr>\n",
              "    <tr>\n",
              "      <th>75%</th>\n",
              "      <td>68145.000000</td>\n",
              "      <td>1.000000</td>\n",
              "      <td>1.000000</td>\n",
              "      <td>74.000000</td>\n",
              "      <td>508.000000</td>\n",
              "      <td>33.000000</td>\n",
              "      <td>225.000000</td>\n",
              "      <td>50.000000</td>\n",
              "      <td>34.000000</td>\n",
              "      <td>56.000000</td>\n",
              "      <td>...</td>\n",
              "      <td>0.000000</td>\n",
              "      <td>3.0</td>\n",
              "      <td>11.0</td>\n",
              "      <td>0.00000</td>\n",
              "      <td>61.000000</td>\n",
              "      <td>2687.000000</td>\n",
              "      <td>964.500000</td>\n",
              "      <td>883.000000</td>\n",
              "      <td>0.000000</td>\n",
              "      <td>1.000000</td>\n",
              "    </tr>\n",
              "    <tr>\n",
              "      <th>max</th>\n",
              "      <td>113734.000000</td>\n",
              "      <td>2.000000</td>\n",
              "      <td>2.000000</td>\n",
              "      <td>99.000000</td>\n",
              "      <td>1493.000000</td>\n",
              "      <td>197.000000</td>\n",
              "      <td>1725.000000</td>\n",
              "      <td>259.000000</td>\n",
              "      <td>262.000000</td>\n",
              "      <td>321.000000</td>\n",
              "      <td>...</td>\n",
              "      <td>1.000000</td>\n",
              "      <td>3.0</td>\n",
              "      <td>11.0</td>\n",
              "      <td>1.00000</td>\n",
              "      <td>80.000000</td>\n",
              "      <td>2858.000000</td>\n",
              "      <td>2491.000000</td>\n",
              "      <td>2458.000000</td>\n",
              "      <td>4.000000</td>\n",
              "      <td>3.000000</td>\n",
              "    </tr>\n",
              "  </tbody>\n",
              "</table>\n",
              "<p>8 rows × 30 columns</p>\n",
              "</div>\n",
              "      <button class=\"colab-df-convert\" onclick=\"convertToInteractive('df-dacca373-fb8e-4250-9ed1-9428ee340518')\"\n",
              "              title=\"Convert this dataframe to an interactive table.\"\n",
              "              style=\"display:none;\">\n",
              "        \n",
              "  <svg xmlns=\"http://www.w3.org/2000/svg\" height=\"24px\"viewBox=\"0 0 24 24\"\n",
              "       width=\"24px\">\n",
              "    <path d=\"M0 0h24v24H0V0z\" fill=\"none\"/>\n",
              "    <path d=\"M18.56 5.44l.94 2.06.94-2.06 2.06-.94-2.06-.94-.94-2.06-.94 2.06-2.06.94zm-11 1L8.5 8.5l.94-2.06 2.06-.94-2.06-.94L8.5 2.5l-.94 2.06-2.06.94zm10 10l.94 2.06.94-2.06 2.06-.94-2.06-.94-.94-2.06-.94 2.06-2.06.94z\"/><path d=\"M17.41 7.96l-1.37-1.37c-.4-.4-.92-.59-1.43-.59-.52 0-1.04.2-1.43.59L10.3 9.45l-7.72 7.72c-.78.78-.78 2.05 0 2.83L4 21.41c.39.39.9.59 1.41.59.51 0 1.02-.2 1.41-.59l7.78-7.78 2.81-2.81c.8-.78.8-2.07 0-2.86zM5.41 20L4 18.59l7.72-7.72 1.47 1.35L5.41 20z\"/>\n",
              "  </svg>\n",
              "      </button>\n",
              "      \n",
              "  <style>\n",
              "    .colab-df-container {\n",
              "      display:flex;\n",
              "      flex-wrap:wrap;\n",
              "      gap: 12px;\n",
              "    }\n",
              "\n",
              "    .colab-df-convert {\n",
              "      background-color: #E8F0FE;\n",
              "      border: none;\n",
              "      border-radius: 50%;\n",
              "      cursor: pointer;\n",
              "      display: none;\n",
              "      fill: #1967D2;\n",
              "      height: 32px;\n",
              "      padding: 0 0 0 0;\n",
              "      width: 32px;\n",
              "    }\n",
              "\n",
              "    .colab-df-convert:hover {\n",
              "      background-color: #E2EBFA;\n",
              "      box-shadow: 0px 1px 2px rgba(60, 64, 67, 0.3), 0px 1px 3px 1px rgba(60, 64, 67, 0.15);\n",
              "      fill: #174EA6;\n",
              "    }\n",
              "\n",
              "    [theme=dark] .colab-df-convert {\n",
              "      background-color: #3B4455;\n",
              "      fill: #D2E3FC;\n",
              "    }\n",
              "\n",
              "    [theme=dark] .colab-df-convert:hover {\n",
              "      background-color: #434B5C;\n",
              "      box-shadow: 0px 1px 3px 1px rgba(0, 0, 0, 0.15);\n",
              "      filter: drop-shadow(0px 1px 2px rgba(0, 0, 0, 0.3));\n",
              "      fill: #FFFFFF;\n",
              "    }\n",
              "  </style>\n",
              "\n",
              "      <script>\n",
              "        const buttonEl =\n",
              "          document.querySelector('#df-dacca373-fb8e-4250-9ed1-9428ee340518 button.colab-df-convert');\n",
              "        buttonEl.style.display =\n",
              "          google.colab.kernel.accessAllowed ? 'block' : 'none';\n",
              "\n",
              "        async function convertToInteractive(key) {\n",
              "          const element = document.querySelector('#df-dacca373-fb8e-4250-9ed1-9428ee340518');\n",
              "          const dataTable =\n",
              "            await google.colab.kernel.invokeFunction('convertToInteractive',\n",
              "                                                     [key], {});\n",
              "          if (!dataTable) return;\n",
              "\n",
              "          const docLinkHtml = 'Like what you see? Visit the ' +\n",
              "            '<a target=\"_blank\" href=https://colab.research.google.com/notebooks/data_table.ipynb>data table notebook</a>'\n",
              "            + ' to learn more about interactive tables.';\n",
              "          element.innerHTML = '';\n",
              "          dataTable['output_type'] = 'display_data';\n",
              "          await google.colab.output.renderOutput(dataTable, element);\n",
              "          const docLink = document.createElement('div');\n",
              "          docLink.innerHTML = docLinkHtml;\n",
              "          element.appendChild(docLink);\n",
              "        }\n",
              "      </script>\n",
              "    </div>\n",
              "  </div>\n",
              "  "
            ]
          },
          "metadata": {},
          "execution_count": 155
        }
      ],
      "source": [
        "data.describe()"
      ]
    },
    {
      "cell_type": "markdown",
      "source": [
        "**Observation**\n",
        "\n",
        "* Average total income was 51755.8\n",
        "* The average amount spent during the last two years on wine, fruits, meat, fish, sweets, and gold items was 307.2, 26.3, 166.8, 37.4, and 43.8, respectively."
      ],
      "metadata": {
        "id": "ZJ9Wm8CXmv4p"
      }
    },
    {
      "cell_type": "code",
      "execution_count": 156,
      "metadata": {
        "colab": {
          "base_uri": "https://localhost:8080/"
        },
        "id": "Y3_aV_GlddJN",
        "outputId": "91cf9272-e736-4ac6-ae9e-84f9bf701e8f"
      },
      "outputs": [
        {
          "output_type": "execute_result",
          "data": {
            "text/plain": [
              "1    945\n",
              "0    509\n",
              "2    349\n",
              "3     40\n",
              "Name: TotalKids, dtype: int64"
            ]
          },
          "metadata": {},
          "execution_count": 156
        }
      ],
      "source": [
        "# Numbers of kids wise Household \n",
        "data['TotalKids'].value_counts()"
      ]
    },
    {
      "cell_type": "markdown",
      "metadata": {
        "id": "bBe6qPQidqD3"
      },
      "source": [
        "**Observation**\n",
        "* 945 households, or the majority, have just one child. 40 households each had three children, and there were 349 families with two children. Compared to 509 households without kids,"
      ]
    },
    {
      "cell_type": "code",
      "source": [
        "data.columns"
      ],
      "metadata": {
        "colab": {
          "base_uri": "https://localhost:8080/"
        },
        "id": "niDo_TH1prrX",
        "outputId": "f39fc8d4-798e-40dd-9840-5058c9d54449"
      },
      "execution_count": 157,
      "outputs": [
        {
          "output_type": "execute_result",
          "data": {
            "text/plain": [
              "Index(['Income', 'Kidhome', 'Teenhome', 'Recency', 'MntWines', 'MntFruits',\n",
              "       'MntMeatProducts', 'MntFishProducts', 'MntSweetProducts',\n",
              "       'MntGoldProds', 'NumDealsPurchases', 'NumWebPurchases',\n",
              "       'NumCatalogPurchases', 'NumStorePurchases', 'NumWebVisitsMonth',\n",
              "       'AcceptedCmp3', 'AcceptedCmp4', 'AcceptedCmp5', 'AcceptedCmp1',\n",
              "       'AcceptedCmp2', 'Complain', 'Z_CostContact', 'Z_Revenue', 'Response',\n",
              "       'Age', 'Customer_Days', 'Marital_Status', 'Education', 'MntTotal',\n",
              "       'MntRegularProds', 'AcceptedCmpOverall', 'TotalKids'],\n",
              "      dtype='object')"
            ]
          },
          "metadata": {},
          "execution_count": 157
        }
      ]
    },
    {
      "cell_type": "code",
      "execution_count": 158,
      "metadata": {
        "colab": {
          "base_uri": "https://localhost:8080/"
        },
        "id": "gubH2AXkf24O",
        "outputId": "0cf7fc28-1fde-4ad9-f72b-c2cb8bbe8103"
      },
      "outputs": [
        {
          "output_type": "execute_result",
          "data": {
            "text/plain": [
              "False    1672\n",
              "True      171\n",
              "Name: Recency, dtype: int64"
            ]
          },
          "metadata": {},
          "execution_count": 158
        }
      ],
      "source": [
        "# Number of days since customer’s last purchase\n",
        "(data['Recency']>=90).value_counts()"
      ]
    },
    {
      "cell_type": "markdown",
      "source": [
        "**Observation**\n",
        "* For 171 consumers, it has been 90 days since their last purchase, while for 1672 customers, it hasn't yet been 90 days."
      ],
      "metadata": {
        "id": "mH6KTnOdqpNE"
      }
    },
    {
      "cell_type": "code",
      "execution_count": 159,
      "metadata": {
        "colab": {
          "base_uri": "https://localhost:8080/",
          "height": 514
        },
        "id": "HyzuA1ExBsho",
        "outputId": "4d4b9047-9033-4fc5-967f-5f0d68d594de"
      },
      "outputs": [
        {
          "output_type": "display_data",
          "data": {
            "text/plain": [
              "<Figure size 1080x576 with 1 Axes>"
            ],
            "image/png": "[encoded data removed]"
          },
          "metadata": {
            "needs_background": "light"
          }
        }
      ],
      "source": [
        "# Check Martial_Status\n",
        "\n",
        "data['Marital_Status'].value_counts()\n",
        "plt.figure(figsize=(15,8))\n",
        "sns.countplot(x='Marital_Status', data=data)\n",
        "plt.title(\"Frequency distribution of Martial Status\")\n",
        "plt.show();"
      ]
    },
    {
      "cell_type": "markdown",
      "metadata": {
        "id": "hf2mpQQeCKWQ"
      },
      "source": [
        "**Observation**\n",
        "\n",
        "* As per analysis we have found, the majority of our customers are married, while the minority are widows."
      ]
    },
    {
      "cell_type": "code",
      "execution_count": 160,
      "metadata": {
        "colab": {
          "base_uri": "https://localhost:8080/",
          "height": 497
        },
        "id": "bpgwUpPeDEKQ",
        "outputId": "f4e8bc6c-4916-4422-8a1c-27faaa62a80c"
      },
      "outputs": [
        {
          "output_type": "display_data",
          "data": {
            "text/plain": [
              "<Figure size 1080x576 with 1 Axes>"
            ],
            "image/png": "[encoded data removed]"
          },
          "metadata": {
            "needs_background": "light"
          }
        }
      ],
      "source": [
        "data['Education'].value_counts()\n",
        "plt.figure(figsize=(15,8))\n",
        "sns.countplot(y='Education', data=data)\n",
        "plt.show();"
      ]
    },
    {
      "cell_type": "markdown",
      "metadata": {
        "id": "9dYF-s4YI2z-"
      },
      "source": [
        "**Observation**\n",
        "* Most customers have graduate degrees, whereas the least amount of customers have only a basic education."
      ]
    },
    {
      "cell_type": "code",
      "execution_count": 161,
      "metadata": {
        "colab": {
          "base_uri": "https://localhost:8080/",
          "height": 674
        },
        "id": "ROlfW4MDui4G",
        "outputId": "3ea439d1-095f-41b5-e3f9-d97c28b762a2"
      },
      "outputs": [
        {
          "output_type": "execute_result",
          "data": {
            "text/plain": [
              "<matplotlib.legend.Legend at 0x7fee1b762150>"
            ]
          },
          "metadata": {},
          "execution_count": 161
        },
        {
          "output_type": "display_data",
          "data": {
            "text/plain": [
              "<Figure size 1080x720 with 1 Axes>"
            ],
            "image/png": "[encoded data removed]"
          },
          "metadata": {
            "needs_background": "light"
          }
        }
      ],
      "source": [
        "data.groupby(['Marital_Status', 'Education']).size().unstack().plot(kind='bar', figsize=(15, 10), title='Martial Status wise Education', stacked=True).legend(loc='best')"
      ]
    },
    {
      "cell_type": "code",
      "execution_count": 162,
      "metadata": {
        "colab": {
          "base_uri": "https://localhost:8080/"
        },
        "id": "YsI51VzRNJxN",
        "outputId": "8abac4b1-6b84-407f-9659-86ffad300166"
      },
      "outputs": [
        {
          "output_type": "execute_result",
          "data": {
            "text/plain": [
              "7     319\n",
              "6     277\n",
              "8     276\n",
              "5     236\n",
              "4     182\n",
              "3     175\n",
              "2     163\n",
              "1     121\n",
              "9      76\n",
              "0       6\n",
              "20      3\n",
              "10      3\n",
              "14      2\n",
              "19      2\n",
              "17      1\n",
              "13      1\n",
              "Name: NumWebVisitsMonth, dtype: int64"
            ]
          },
          "metadata": {},
          "execution_count": 162
        }
      ],
      "source": [
        "data['NumWebVisitsMonth'].value_counts().sort_values(ascending =False)"
      ]
    },
    {
      "cell_type": "markdown",
      "metadata": {
        "id": "qe-iP6tJNkQk"
      },
      "source": [
        "**Observation**\n",
        "\n",
        "* Most consumers (319) visited the website 7 times in a month, followed 6 times (277) "
      ]
    },
    {
      "cell_type": "code",
      "execution_count": 163,
      "metadata": {
        "colab": {
          "base_uri": "https://localhost:8080/"
        },
        "id": "8xwDynBjsXDk",
        "outputId": "3b00b4be-c3bf-4a47-df93-8b13a9306b3c"
      },
      "outputs": [
        {
          "output_type": "execute_result",
          "data": {
            "text/plain": [
              "0    1719\n",
              "1     124\n",
              "Name: AcceptedCmp1, dtype: int64"
            ]
          },
          "metadata": {},
          "execution_count": 163
        }
      ],
      "source": [
        "data['AcceptedCmp1'].value_counts()"
      ]
    },
    {
      "cell_type": "markdown",
      "metadata": {
        "id": "01_TIjfFU4R7"
      },
      "source": [
        "**Observation**\n",
        "* In the first campaign, 124 customers accepted the offer.\n"
      ]
    },
    {
      "cell_type": "code",
      "execution_count": 164,
      "metadata": {
        "colab": {
          "base_uri": "https://localhost:8080/"
        },
        "id": "sOwoYPumUOFU",
        "outputId": "91e98b16-d267-4c96-bb4c-f4e78bcd6ce5"
      },
      "outputs": [
        {
          "output_type": "execute_result",
          "data": {
            "text/plain": [
              "0    1821\n",
              "1      22\n",
              "Name: AcceptedCmp2, dtype: int64"
            ]
          },
          "metadata": {},
          "execution_count": 164
        }
      ],
      "source": [
        "data['AcceptedCmp2'].value_counts()"
      ]
    },
    {
      "cell_type": "markdown",
      "metadata": {
        "id": "c0d4r8nzU-Ne"
      },
      "source": [
        "**Observation**\n",
        "* 22 Customers accepted the offer in the 2nd campaign"
      ]
    },
    {
      "cell_type": "code",
      "execution_count": 165,
      "metadata": {
        "colab": {
          "base_uri": "https://localhost:8080/"
        },
        "id": "ZdqKWsHkURXs",
        "outputId": "e8030548-d202-4e71-8bf5-7a80c36b05ee"
      },
      "outputs": [
        {
          "output_type": "execute_result",
          "data": {
            "text/plain": [
              "0    1704\n",
              "1     139\n",
              "Name: AcceptedCmp3, dtype: int64"
            ]
          },
          "metadata": {},
          "execution_count": 165
        }
      ],
      "source": [
        "data['AcceptedCmp3'].value_counts()"
      ]
    },
    {
      "cell_type": "markdown",
      "metadata": {
        "id": "wIoJpNusVAM0"
      },
      "source": [
        "**Observation**\n",
        "* 139 Customers accepted the offer in the 3rd campaign"
      ]
    },
    {
      "cell_type": "code",
      "execution_count": 166,
      "metadata": {
        "colab": {
          "base_uri": "https://localhost:8080/"
        },
        "id": "6Sn_KMl2UWN0",
        "outputId": "4d561123-3814-470f-8d32-2daf514e0455"
      },
      "outputs": [
        {
          "output_type": "execute_result",
          "data": {
            "text/plain": [
              "0    1697\n",
              "1     146\n",
              "Name: AcceptedCmp4, dtype: int64"
            ]
          },
          "metadata": {},
          "execution_count": 166
        }
      ],
      "source": [
        "data['AcceptedCmp4'].value_counts()"
      ]
    },
    {
      "cell_type": "markdown",
      "metadata": {
        "id": "AXgCrnRSVETU"
      },
      "source": [
        "**Observation**\n",
        "* In the fourth campaign, 146 customers accepted the offer."
      ]
    },
    {
      "cell_type": "code",
      "execution_count": 167,
      "metadata": {
        "colab": {
          "base_uri": "https://localhost:8080/"
        },
        "id": "1T_nTj5BUXbN",
        "outputId": "86c6367d-4347-4c4d-eacd-f413aae2a37c"
      },
      "outputs": [
        {
          "output_type": "execute_result",
          "data": {
            "text/plain": [
              "0    1711\n",
              "1     132\n",
              "Name: AcceptedCmp5, dtype: int64"
            ]
          },
          "metadata": {},
          "execution_count": 167
        }
      ],
      "source": [
        "data['AcceptedCmp5'].value_counts()"
      ]
    },
    {
      "cell_type": "markdown",
      "metadata": {
        "id": "FNzDyoBcVH3U"
      },
      "source": [
        "**Observation**\n",
        "* 132 Customers accepted the offer in the 5th campaign"
      ]
    },
    {
      "cell_type": "code",
      "execution_count": 169,
      "metadata": {
        "colab": {
          "base_uri": "https://localhost:8080/"
        },
        "id": "IFKp4dNdeR4O",
        "outputId": "4a836faf-ac08-43a2-dda6-25baefff416c"
      },
      "outputs": [
        {
          "output_type": "execute_result",
          "data": {
            "text/plain": [
              "Offer\n",
              "0        1448\n",
              "1         281\n",
              "2          69\n",
              "3          36\n",
              "4           9\n",
              "dtype: int64"
            ]
          },
          "metadata": {},
          "execution_count": 169
        }
      ],
      "source": [
        "# Getting the maximum numbers of offers received by a customer in different campaign\n",
        "\n",
        "cntTotal = 0\n",
        "maxOffer = []\n",
        "for acceptedcmp1, acceptedcmp2, acceptedcmp3, acceptedcmp4,acceptedcmp5  in zip(data['AcceptedCmp1'], data['AcceptedCmp2'],data['AcceptedCmp3'], data['AcceptedCmp4'], data['AcceptedCmp5']):\n",
        "  cntTotal = acceptedcmp1 + acceptedcmp2 + acceptedcmp3 + acceptedcmp4 + acceptedcmp5\n",
        "  # print(cntTotal)\n",
        "  maxOffer.append(cntTotal)\n",
        "\n",
        "pd.DataFrame({'Offer': maxOffer}).value_counts()"
      ]
    },
    {
      "cell_type": "markdown",
      "metadata": {
        "id": "yxGs8yxUzzLs"
      },
      "source": [
        "**Observation**\n",
        "\n",
        "* 9 people accepted the highest offer, which was 4 out of 5 campaigns."
      ]
    },
    {
      "cell_type": "code",
      "execution_count": 170,
      "metadata": {
        "colab": {
          "base_uri": "https://localhost:8080/"
        },
        "id": "Gxjje_SaObOM",
        "outputId": "c41c8624-4347-47b5-bbf2-617bd7cf9823"
      },
      "outputs": [
        {
          "output_type": "execute_result",
          "data": {
            "text/plain": [
              "0    1825\n",
              "1      18\n",
              "Name: Complain, dtype: int64"
            ]
          },
          "metadata": {},
          "execution_count": 170
        }
      ],
      "source": [
        "data['Complain'].value_counts()"
      ]
    },
    {
      "cell_type": "markdown",
      "metadata": {
        "id": "Qnn2_7UeOkfT"
      },
      "source": [
        "**Observation**\n",
        "\n",
        "* Only 18 customer complained in the last 2 years"
      ]
    },
    {
      "cell_type": "code",
      "execution_count": 171,
      "metadata": {
        "colab": {
          "base_uri": "https://localhost:8080/",
          "height": 500
        },
        "id": "cNtIKzP10XE1",
        "outputId": "d189cdcc-070e-46e1-9ac9-2b84c29ee7eb"
      },
      "outputs": [
        {
          "output_type": "execute_result",
          "data": {
            "text/plain": [
              "<matplotlib.axes._subplots.AxesSubplot at 0x7fee19fa56d0>"
            ]
          },
          "metadata": {},
          "execution_count": 171
        },
        {
          "output_type": "display_data",
          "data": {
            "text/plain": [
              "<Figure size 1080x576 with 2 Axes>"
            ],
            "image/png": "[encoded data removed]"
          },
          "metadata": {
            "needs_background": "light"
          }
        }
      ],
      "source": [
        "fig, ax = plt.subplots(1,2, figsize=(15,8))\n",
        "data.boxplot(column=['Income'], ax=ax[0])\n",
        "data.boxplot(column=['Age'], ax=ax[1])"
      ]
    },
    {
      "cell_type": "markdown",
      "source": [
        "**Observation**\n",
        "\n",
        "* The median income of the people is 50000 (approx), whereas the inter quartile range of income is in between 65000 (approx) and 38000 (approx)\n",
        "\n",
        "* The median age of the people is 50 (approx), whereas the inter quartile range of age is in between 61 (approx) and 43 (approx)"
      ],
      "metadata": {
        "id": "tNh_HHK64_xs"
      }
    },
    {
      "cell_type": "code",
      "execution_count": 174,
      "metadata": {
        "colab": {
          "base_uri": "https://localhost:8080/",
          "height": 636
        },
        "id": "4Najp5VOCtBQ",
        "outputId": "4a5f7ea0-bdf6-44ba-d860-446570804372"
      },
      "outputs": [
        {
          "output_type": "stream",
          "name": "stdout",
          "text": [
            "            Name  AmountSpent\n",
            "0          Wines       566109\n",
            "1         Fruits        48486\n",
            "2   MeatProducts       307437\n",
            "3   FishProducts        68930\n",
            "4  SweetProducts        50529\n",
            "5      GoldProds        80792\n"
          ]
        },
        {
          "output_type": "execute_result",
          "data": {
            "text/plain": [
              "<matplotlib.axes._subplots.AxesSubplot at 0x7fee193f8090>"
            ]
          },
          "metadata": {},
          "execution_count": 174
        },
        {
          "output_type": "display_data",
          "data": {
            "text/plain": [
              "<Figure size 1080x576 with 1 Axes>"
            ],
            "image/png": "[encoded data removed]"
          },
          "metadata": {
            "needs_background": "light"
          }
        }
      ],
      "source": [
        "# Check the amount spent on wine, fruit, meat, fish, sweet, gold\n",
        "\n",
        "wineAmount = data['MntWines'].sum()\n",
        "fruitAmount = data['MntFruits'].sum()\n",
        "meatAmount = data['MntMeatProducts'].sum()\n",
        "fishAmount = data['MntFishProducts'].sum()\n",
        "sweetAmount = data['MntSweetProducts'].sum()\n",
        "goldAmount = data['MntGoldProds'].sum()\n",
        "\n",
        "dataAmountSpent = {\n",
        "\t\"Name\" : [\"Wines\", \"Fruits\", \"MeatProducts\", \"FishProducts\", \"SweetProducts\", \"GoldProds\"],\n",
        "\t# \"Amount Spent\" : [data['MntWines'].sum(), data['MntFruits'].sum(), data['MntMeatProducts'].sum(), data['MntFishProducts'].sum(), data['MntSweetProducts'].sum(), data['MntGoldProds'].sum()]\n",
        "  \"AmountSpent\" : [wineAmount, fruitAmount, meatAmount, fishAmount, sweetAmount, goldAmount]\n",
        "}\n",
        "\n",
        "df = pd.DataFrame(dataAmountSpent)\n",
        "print(df)\n",
        "plt.figure(figsize=(15,8))\n",
        "sns.barplot(x='Name',y='AmountSpent',data=df)"
      ]
    },
    {
      "cell_type": "markdown",
      "metadata": {
        "id": "Hxi7aBOwJWY7"
      },
      "source": [
        "**Observation**\n",
        "\n",
        "* As per analysis I have found that maximum amount spent on Wine, followd by Meat product"
      ]
    },
    {
      "cell_type": "code",
      "execution_count": 175,
      "metadata": {
        "colab": {
          "base_uri": "https://localhost:8080/",
          "height": 584
        },
        "id": "SprfGU-I8tEC",
        "outputId": "18e0ba76-a063-4d67-d885-d1d8ac5bb18d"
      },
      "outputs": [
        {
          "output_type": "stream",
          "name": "stdout",
          "text": [
            "                  Name  Total\n",
            "0    NumDealsPurchases   4317\n",
            "1      NumWebPurchases   7619\n",
            "2  NumCatalogPurchases   4871\n",
            "3    NumStorePurchases  10675\n"
          ]
        },
        {
          "output_type": "display_data",
          "data": {
            "text/plain": [
              "<Figure size 1080x576 with 1 Axes>"
            ],
            "image/png": "[encoded data removed]"
          },
          "metadata": {
            "needs_background": "light"
          }
        }
      ],
      "source": [
        "DealsPurchases = data['NumDealsPurchases'].sum()\n",
        "WebPurchases = data['NumWebPurchases'].sum()\n",
        "CatalogPurchases = data['NumCatalogPurchases'].sum()\n",
        "StorePurchases = data['NumStorePurchases'].sum()\n",
        "\n",
        "dataPurchase = {\n",
        "    \"Name\": ['NumDealsPurchases', 'NumWebPurchases', 'NumCatalogPurchases', 'NumStorePurchases'],\n",
        "    \"Total\": [DealsPurchases, WebPurchases, CatalogPurchases, StorePurchases]\n",
        "}\n",
        "\n",
        "dfPurchase = pd.DataFrame(dataPurchase)\n",
        "print(dfPurchase)\n",
        "\n",
        "plt.figure(figsize=(15,8))\n",
        "sns.barplot(x=\"Name\", y=\"Total\",data=dfPurchase)\n",
        "\n",
        "# plt.figure(figsize=(15,8))\n",
        "# sns.barplot(y='Name',x='AmountSpent',data=df)\n",
        "plt.show();"
      ]
    },
    {
      "cell_type": "markdown",
      "metadata": {
        "id": "iFhAgcOq_Tmm"
      },
      "source": [
        "**Observation**\n",
        "* Maximum numbers of purchases made directly in stores\n",
        "* Minimum numbers of purchases with a discount"
      ]
    },
    {
      "cell_type": "code",
      "execution_count": 176,
      "metadata": {
        "colab": {
          "base_uri": "https://localhost:8080/",
          "height": 265
        },
        "id": "7vvUb3HNX404",
        "outputId": "dab122d0-9776-4090-cb11-81dfe7cb78fa"
      },
      "outputs": [
        {
          "output_type": "display_data",
          "data": {
            "text/plain": [
              "<Figure size 432x288 with 1 Axes>"
            ],
            "image/png": "[encoded data removed]"
          },
          "metadata": {
            "needs_background": "light"
          }
        }
      ],
      "source": [
        "plt.hist(data[\"Income\"], bins=15)\n",
        "plt.show()"
      ]
    },
    {
      "cell_type": "markdown",
      "source": [
        "**Observation**\n",
        "\n",
        "* As per the histogram it shows that most of the people have income between 30000 to 80000 (approx)"
      ],
      "metadata": {
        "id": "pPtj0IDxB_9C"
      }
    },
    {
      "cell_type": "code",
      "source": [
        "sns.boxplot(x= 'TotalKids', y = 'Income', data=data)"
      ],
      "metadata": {
        "colab": {
          "base_uri": "https://localhost:8080/",
          "height": 296
        },
        "id": "iqetvx968dMc",
        "outputId": "4ec27ea5-86aa-48f3-e3d4-cbab741f796a"
      },
      "execution_count": 177,
      "outputs": [
        {
          "output_type": "execute_result",
          "data": {
            "text/plain": [
              "<matplotlib.axes._subplots.AxesSubplot at 0x7fee192678d0>"
            ]
          },
          "metadata": {},
          "execution_count": 177
        },
        {
          "output_type": "display_data",
          "data": {
            "text/plain": [
              "<Figure size 432x288 with 1 Axes>"
            ],
            "image/png": "[encoded data removed]"
          },
          "metadata": {
            "needs_background": "light"
          }
        }
      ]
    },
    {
      "cell_type": "markdown",
      "source": [
        "**Observation**\n",
        "\n",
        "As per the graph it shows that there is a trend to earn more among people who have no kid, rather than the people who have kids, which is contradictory to general assumption. Because who have more children, they are likely to earn more. "
      ],
      "metadata": {
        "id": "JhTmdlOaGgtc"
      }
    },
    {
      "cell_type": "code",
      "source": [
        "sns.relplot(x='Income', y='MntTotal', data=data, col='TotalKids')\n",
        "plt.show()"
      ],
      "metadata": {
        "colab": {
          "base_uri": "https://localhost:8080/",
          "height": 249
        },
        "id": "Ywn9TwFRIwUo",
        "outputId": "180528ed-8a9d-4c18-e743-c52194eb2423"
      },
      "execution_count": 178,
      "outputs": [
        {
          "output_type": "display_data",
          "data": {
            "text/plain": [
              "<Figure size 1440x360 with 4 Axes>"
            ],
            "image/png": "[encoded data removed]"
          },
          "metadata": {
            "needs_background": "light"
          }
        }
      ]
    },
    {
      "cell_type": "markdown",
      "source": [
        "**Observation**\n",
        "\n",
        "* As per analysis, I find a negative correlation between income, total spending, and the number of children, meaning that people tend to earn more and spend more when they don't have any children. As they begin having children, expenses decrease. it is reasonable. People with 3 children spend significantly less than those with 0 or 1 child."
      ],
      "metadata": {
        "id": "iCzsK8z2JSga"
      }
    },
    {
      "cell_type": "code",
      "source": [
        "dataWine = data.groupby(['TotalKids'])['MntWines'].mean()\n",
        "dataWineNew = pd.DataFrame(dataWine)\n",
        "print(dataWineNew)\n",
        "dataWineNew.reset_index(inplace = True)\n",
        "plt.figure(figsize=(15,8))\n",
        "sns.barplot('TotalKids', 'MntWines', data=dataWineNew)\n",
        "plt.title('Total Kid number wise amount spent on wine')\n",
        "plt.xlabel('Total Kids')\n",
        "plt.ylabel('Amount spent on wine')\n",
        "plt.show();"
      ],
      "metadata": {
        "id": "Xu7KU3bpiIcW",
        "colab": {
          "base_uri": "https://localhost:8080/",
          "height": 672
        },
        "outputId": "8d0e45b0-6963-4fdd-c7da-7608d9956de9"
      },
      "execution_count": 179,
      "outputs": [
        {
          "output_type": "stream",
          "name": "stdout",
          "text": [
            "             MntWines\n",
            "TotalKids            \n",
            "0          504.768173\n",
            "1          267.116402\n",
            "2          144.229226\n",
            "3          160.525000\n"
          ]
        },
        {
          "output_type": "stream",
          "name": "stderr",
          "text": [
            "/usr/local/lib/python3.7/dist-packages/seaborn/_decorators.py:43: FutureWarning: Pass the following variables as keyword args: x, y. From version 0.12, the only valid positional argument will be `data`, and passing other arguments without an explicit keyword will result in an error or misinterpretation.\n",
            "  FutureWarning\n"
          ]
        },
        {
          "output_type": "display_data",
          "data": {
            "text/plain": [
              "<Figure size 1080x576 with 1 Axes>"
            ],
            "image/png": "[encoded data removed]"
          },
          "metadata": {
            "needs_background": "light"
          }
        }
      ]
    },
    {
      "cell_type": "code",
      "source": [
        "dataFruits=data.groupby(['TotalKids'])['MntFruits'].mean()\n",
        "dataFruitsNew = pd.DataFrame(dataFruits)\n",
        "dataFruitsNew.reset_index(inplace= True)\n",
        "dataFruitsNew.columns\n",
        "plt.figure(figsize=(15,8))\n",
        "sns.barplot('TotalKids','MntFruits', data= dataFruitsNew)\n",
        "plt.title('Total Kid number wise amount spent on fruits')\n",
        "plt.xlabel('Total Kids')\n",
        "plt.ylabel('Amount spent on fruits')"
      ],
      "metadata": {
        "colab": {
          "base_uri": "https://localhost:8080/",
          "height": 585
        },
        "id": "axwxx-u2D4MX",
        "outputId": "a9e26283-3308-4b38-e38c-adf7f2b27251"
      },
      "execution_count": 180,
      "outputs": [
        {
          "output_type": "stream",
          "name": "stderr",
          "text": [
            "/usr/local/lib/python3.7/dist-packages/seaborn/_decorators.py:43: FutureWarning: Pass the following variables as keyword args: x, y. From version 0.12, the only valid positional argument will be `data`, and passing other arguments without an explicit keyword will result in an error or misinterpretation.\n",
            "  FutureWarning\n"
          ]
        },
        {
          "output_type": "execute_result",
          "data": {
            "text/plain": [
              "Text(0, 0.5, 'Amount spent on fruits')"
            ]
          },
          "metadata": {},
          "execution_count": 180
        },
        {
          "output_type": "display_data",
          "data": {
            "text/plain": [
              "<Figure size 1080x576 with 1 Axes>"
            ],
            "image/png": "[encoded data removed]"
          },
          "metadata": {
            "needs_background": "light"
          }
        }
      ]
    },
    {
      "cell_type": "code",
      "source": [
        "dataMeatNew = pd.DataFrame(data.groupby(['TotalKids'])['MntMeatProducts'].mean())\n",
        "dataMeatNew.reset_index(inplace=True)\n",
        "plt.figure(figsize=(15,8))\n",
        "sns.barplot('TotalKids','MntMeatProducts',data=dataMeatNew)\n",
        "plt.title('Total Kid number wise amount spent on meat products')\n",
        "plt.xlabel('Total Kids')\n",
        "plt.ylabel('Amount spent on Meat')\n",
        "plt.show()\n"
      ],
      "metadata": {
        "colab": {
          "base_uri": "https://localhost:8080/",
          "height": 568
        },
        "id": "Sx2zvlRAKVoR",
        "outputId": "1659b1cd-2cc3-46c5-854b-3f143777fee8"
      },
      "execution_count": 189,
      "outputs": [
        {
          "output_type": "stream",
          "name": "stderr",
          "text": [
            "/usr/local/lib/python3.7/dist-packages/seaborn/_decorators.py:43: FutureWarning: Pass the following variables as keyword args: x, y. From version 0.12, the only valid positional argument will be `data`, and passing other arguments without an explicit keyword will result in an error or misinterpretation.\n",
            "  FutureWarning\n"
          ]
        },
        {
          "output_type": "display_data",
          "data": {
            "text/plain": [
              "<Figure size 1080x576 with 1 Axes>"
            ],
            "image/png": "[encoded data removed]"
          },
          "metadata": {
            "needs_background": "light"
          }
        }
      ]
    },
    {
      "cell_type": "code",
      "source": [
        "dataMntFishNew = pd.DataFrame(data.groupby(['TotalKids'])['MntFishProducts'].mean())\n",
        "dataMntFishNew.reset_index(inplace=True)\n",
        "plt.figure(figsize=(15,8))\n",
        "sns.barplot('TotalKids','MntFishProducts',data=dataMntFishNew)\n",
        "plt.title('Total Kid number wise amount spent on Fish')\n",
        "plt.xlabel('Total Kids')\n",
        "plt.ylabel('Amount spent on Fish')\n",
        "plt.show()"
      ],
      "metadata": {
        "colab": {
          "base_uri": "https://localhost:8080/",
          "height": 568
        },
        "id": "Klxbq-h6L793",
        "outputId": "ae18889c-4a2f-4cc3-f321-d074108e7c6b"
      },
      "execution_count": 182,
      "outputs": [
        {
          "output_type": "stream",
          "name": "stderr",
          "text": [
            "/usr/local/lib/python3.7/dist-packages/seaborn/_decorators.py:43: FutureWarning: Pass the following variables as keyword args: x, y. From version 0.12, the only valid positional argument will be `data`, and passing other arguments without an explicit keyword will result in an error or misinterpretation.\n",
            "  FutureWarning\n"
          ]
        },
        {
          "output_type": "display_data",
          "data": {
            "text/plain": [
              "<Figure size 1080x576 with 1 Axes>"
            ],
            "image/png": "[encoded data removed]"
          },
          "metadata": {
            "needs_background": "light"
          }
        }
      ]
    },
    {
      "cell_type": "code",
      "source": [
        "# MntSweetProducts\n",
        "\n",
        "dataSweetNew = pd.DataFrame(data.groupby(['TotalKids'])['MntSweetProducts'].mean())\n",
        "dataSweetNew.reset_index(inplace=True)\n",
        "plt.figure(figsize=(15,8))\n",
        "sns.barplot('TotalKids','MntSweetProducts',data=dataSweetNew)\n",
        "plt.title('Total Kid number wise amount spent on Sweets')\n",
        "plt.xlabel('Total Kids')\n",
        "plt.ylabel('Amount spent on Sweets')\n",
        "plt.show()"
      ],
      "metadata": {
        "colab": {
          "base_uri": "https://localhost:8080/",
          "height": 568
        },
        "id": "aemetjE_NNx9",
        "outputId": "37aac108-d8aa-4e22-c8a0-79f271101c9a"
      },
      "execution_count": 183,
      "outputs": [
        {
          "output_type": "stream",
          "name": "stderr",
          "text": [
            "/usr/local/lib/python3.7/dist-packages/seaborn/_decorators.py:43: FutureWarning: Pass the following variables as keyword args: x, y. From version 0.12, the only valid positional argument will be `data`, and passing other arguments without an explicit keyword will result in an error or misinterpretation.\n",
            "  FutureWarning\n"
          ]
        },
        {
          "output_type": "display_data",
          "data": {
            "text/plain": [
              "<Figure size 1080x576 with 1 Axes>"
            ],
            "image/png": "[encoded data removed]"
          },
          "metadata": {
            "needs_background": "light"
          }
        }
      ]
    },
    {
      "cell_type": "code",
      "source": [
        "# MntGoldProds\n",
        "\n",
        "dataGoldNew=pd.DataFrame(data.groupby(['TotalKids'])['MntGoldProds'].mean())\n",
        "dataGoldNew.reset_index(inplace = True)\n",
        "plt.figure(figsize=(15,8))\n",
        "sns.barplot('TotalKids','MntGoldProds', data = dataGoldNew)\n",
        "plt.title('Total Kid number wise amount spent on Gold')\n",
        "plt.xlabel('Total Kids')\n",
        "plt.ylabel('Total Amount spent on Gold')\n",
        "plt.show();"
      ],
      "metadata": {
        "colab": {
          "base_uri": "https://localhost:8080/",
          "height": 568
        },
        "id": "1WHY_8SLOetm",
        "outputId": "d59cf97e-c6fa-45e0-d314-5e62f78a2b88"
      },
      "execution_count": 184,
      "outputs": [
        {
          "output_type": "stream",
          "name": "stderr",
          "text": [
            "/usr/local/lib/python3.7/dist-packages/seaborn/_decorators.py:43: FutureWarning: Pass the following variables as keyword args: x, y. From version 0.12, the only valid positional argument will be `data`, and passing other arguments without an explicit keyword will result in an error or misinterpretation.\n",
            "  FutureWarning\n"
          ]
        },
        {
          "output_type": "display_data",
          "data": {
            "text/plain": [
              "<Figure size 1080x576 with 1 Axes>"
            ],
            "image/png": "[encoded data removed]"
          },
          "metadata": {
            "needs_background": "light"
          }
        }
      ]
    },
    {
      "cell_type": "markdown",
      "source": [
        "**Observation**\n",
        "\n",
        "A trend of excess spending on wine, fruit, meat, fish, sweets and gold was noted  amongst people who do not have any children"
      ],
      "metadata": {
        "id": "mboSspl9z_ir"
      }
    },
    {
      "cell_type": "code",
      "source": [
        "for col in data.columns:\n",
        "  if 'Mnt' in col:\n",
        "    sns.boxplot(x=\"TotalKids\", y=col, data=data)\n",
        "    plt.show()"
      ],
      "metadata": {
        "colab": {
          "base_uri": "https://localhost:8080/",
          "height": 1000
        },
        "id": "l74JkNmJVRwm",
        "outputId": "3c7aeb15-893d-49de-c41f-1740e3b98418"
      },
      "execution_count": 185,
      "outputs": [
        {
          "output_type": "display_data",
          "data": {
            "text/plain": [
              "<Figure size 432x288 with 1 Axes>"
            ],
            "image/png": "[encoded data removed]"
          },
          "metadata": {
            "needs_background": "light"
          }
        },
        {
          "output_type": "display_data",
          "data": {
            "text/plain": [
              "<Figure size 432x288 with 1 Axes>"
            ],
            "image/png": "[encoded data removed]"
          },
          "metadata": {
            "needs_background": "light"
          }
        },
        {
          "output_type": "display_data",
          "data": {
            "text/plain": [
              "<Figure size 432x288 with 1 Axes>"
            ],
            "image/png": "[encoded data removed]"
          },
          "metadata": {
            "needs_background": "light"
          }
        },
        {
          "output_type": "display_data",
          "data": {
            "text/plain": [
              "<Figure size 432x288 with 1 Axes>"
            ],
            "image/png": "[encoded data removed]"
          },
          "metadata": {
            "needs_background": "light"
          }
        },
        {
          "output_type": "display_data",
          "data": {
            "text/plain": [
              "<Figure size 432x288 with 1 Axes>"
            ],
            "image/png": "[encoded data removed]"
          },
          "metadata": {
            "needs_background": "light"
          }
        },
        {
          "output_type": "display_data",
          "data": {
            "text/plain": [
              "<Figure size 432x288 with 1 Axes>"
            ],
            "image/png": "[encoded data removed]"
          },
          "metadata": {
            "needs_background": "light"
          }
        },
        {
          "output_type": "display_data",
          "data": {
            "text/plain": [
              "<Figure size 432x288 with 1 Axes>"
            ],
            "image/png": "[encoded data removed]"
          },
          "metadata": {
            "needs_background": "light"
          }
        },
        {
          "output_type": "display_data",
          "data": {
            "text/plain": [
              "<Figure size 432x288 with 1 Axes>"
            ],
            "image/png": "[encoded data removed]"
          },
          "metadata": {
            "needs_background": "light"
          }
        }
      ]
    },
    {
      "cell_type": "code",
      "source": [
        "dataNew =  data[['Income', 'TotalKids', 'MntWines', 'MntFruits', 'MntMeatProducts', 'MntFishProducts', 'MntSweetProducts', 'MntGoldProds']]\n",
        "plt.figure(figsize=(15,8))\n",
        "sns.heatmap(dataNew.corr(), annot=True)\n",
        " "
      ],
      "metadata": {
        "colab": {
          "base_uri": "https://localhost:8080/",
          "height": 586
        },
        "id": "8pZN7OeYXND_",
        "outputId": "90b88dfd-4440-4072-d11c-6cfc5603e34f"
      },
      "execution_count": 186,
      "outputs": [
        {
          "output_type": "execute_result",
          "data": {
            "text/plain": [
              "<matplotlib.axes._subplots.AxesSubplot at 0x7fee218f5850>"
            ]
          },
          "metadata": {},
          "execution_count": 186
        },
        {
          "output_type": "display_data",
          "data": {
            "text/plain": [
              "<Figure size 1080x576 with 2 Axes>"
            ],
            "image/png": "[encoded data removed]"
          },
          "metadata": {
            "needs_background": "light"
          }
        }
      ]
    },
    {
      "cell_type": "code",
      "source": [
        "plt.hist(data[data[\"Response\"]==1][\"Income\"])\n",
        "plt.show()"
      ],
      "metadata": {
        "colab": {
          "base_uri": "https://localhost:8080/",
          "height": 265
        },
        "id": "9saqnRMngE9J",
        "outputId": "dec2d955-7335-4020-c4f0-ff32f2098dd2"
      },
      "execution_count": 187,
      "outputs": [
        {
          "output_type": "display_data",
          "data": {
            "text/plain": [
              "<Figure size 432x288 with 1 Axes>"
            ],
            "image/png": "[encoded data removed]"
          },
          "metadata": {
            "needs_background": "light"
          }
        }
      ]
    },
    {
      "cell_type": "markdown",
      "source": [
        "**Observation**\n",
        "\n",
        "As per analysis we can say that the right skewed histogram shows that the people who responded, were earning higher salary"
      ],
      "metadata": {
        "id": "SUOaF0eAiT1y"
      }
    },
    {
      "cell_type": "code",
      "source": [
        "# sns.boxplot(y=data[data[\"Response\"]==1][\"Income\"])\n",
        "# plt.show()\n",
        "\n",
        "sns.boxplot(y=data[data[\"Response\"]==1][\"Income\"])\n",
        "plt.show()"
      ],
      "metadata": {
        "colab": {
          "base_uri": "https://localhost:8080/",
          "height": 252
        },
        "id": "9JhTZLxvmObU",
        "outputId": "25f4796c-c260-40f7-ea78-4b25a2bc25b8"
      },
      "execution_count": 188,
      "outputs": [
        {
          "output_type": "display_data",
          "data": {
            "text/plain": [
              "<Figure size 432x288 with 1 Axes>"
            ],
            "image/png": "[encoded data removed]"
          },
          "metadata": {
            "needs_background": "light"
          }
        }
      ]
    },
    {
      "cell_type": "markdown",
      "source": [
        "**Observation**\n",
        "\n",
        "From the box plot we can say the earning of the 50% people were higher than 60000"
      ],
      "metadata": {
        "id": "FxOL3uVrmqUw"
      }
    }
  ],
  "metadata": {
    "colab": {
      "collapsed_sections": [],
      "provenance": []
    },
    "kernelspec": {
      "display_name": "Python 3",
      "name": "python3"
    },
    "language_info": {
      "name": "python"
    }
  },
  "nbformat": 4,
  "nbformat_minor": 0
}